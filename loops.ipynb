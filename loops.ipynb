{
 "cells": [
  {
   "cell_type": "code",
   "execution_count": 19,
   "metadata": {},
   "outputs": [
    {
     "name": "stdout",
     "output_type": "stream",
     "text": [
      "Loop starting at (0, 3) : [(0, 3), (3, 7), (7, 4), (4, 0)]\n",
      "Loop starting at (0, 8) : [(0, 8), (8, 1), (1, 2), (2, 5), (5, 6), (6, 0)]\n"
     ]
    },
    {
     "data": {
      "text/plain": [
       "[[(0, 3), (3, 7), (7, 4), (4, 0)],\n",
       " [(0, 8), (8, 1), (1, 2), (2, 5), (5, 6), (6, 0)]]"
      ]
     },
     "execution_count": 19,
     "metadata": {},
     "output_type": "execute_result"
    }
   ],
   "source": [
    "def find_loops(list_of_tuples, loops2):\n",
    "    # Initialize a dictionary to store the loops\n",
    "    loops = {}\n",
    "\n",
    "    # Loop through the list of tuples\n",
    "    for item in list_of_tuples:\n",
    "        # Check if the item is a tuple\n",
    "        if isinstance(item, tuple):\n",
    "            # If the tuple starts with zero, create a new loop\n",
    "            if item[0] == 0:\n",
    "                loop = [item]\n",
    "                current_node = item[1]\n",
    "                # Traverse the list to find the rest of the loop\n",
    "                while current_node != 0:\n",
    "                    for i in list_of_tuples:\n",
    "                        if isinstance(i, tuple) and i[0] == current_node:\n",
    "                            loop.append(i)\n",
    "                            current_node = i[1]\n",
    "                            break\n",
    "                # Store the loop in the dictionary\n",
    "                loops[item] = loop\n",
    "\n",
    "    # Print the loops\n",
    "    for key, value in loops.items():\n",
    "        print(\"Loop starting at\", key, \":\", value)\n",
    "    \n",
    "    for key, value in loops.items():\n",
    "        loops2.append(value)\n",
    "\n",
    "    return loops2\n",
    "\n",
    "\n",
    "# Example list of tuples\n",
    "list_of_tuples = [(0, 3), (8, 1), (7, 4), (5, 6), (4, 0), (1, 2), (3, 7), (0, 8), (2, 5), (6, 0)]\n",
    "\n",
    "list_of_loops_2 = []\n",
    "\n",
    "\n",
    "# Find and print the loops\n",
    "find_loops(list_of_tuples, list_of_loops_2)\n"
   ]
  },
  {
   "cell_type": "code",
   "execution_count": 20,
   "metadata": {},
   "outputs": [
    {
     "data": {
      "text/plain": [
       "[]"
      ]
     },
     "execution_count": 20,
     "metadata": {},
     "output_type": "execute_result"
    },
    {
     "data": {
      "image/png": "[encoded data removed]",
      "text/plain": [
       "<Figure size 640x480 with 1 Axes>"
      ]
     },
     "metadata": {},
     "output_type": "display_data"
    }
   ],
   "source": [
    "import matplotlib.pyplot as plt\n",
    "\n",
    "color_vector = ['#6699FF', '#ffa500']\n",
    "\n",
    "\n",
    "for k in range(len(list_of_loops_2)):\n",
    "    for a in range(len(list_of_loops_2[k])-1):\n",
    "        plt.arrow(list_of_loops_2[k][a][0], list_of_loops_2[k][a][1], list_of_loops_2[k][a+1][0]-list_of_loops_2[k][a][0], list_of_loops_2[k][a+1][1]-list_of_loops_2[k][a][1], head_width=.1, head_length=.1, color=color_vector[k], length_includes_head=True)\n",
    "\n",
    "plt.plot()\n",
    "\n"
   ]
  },
  {
   "cell_type": "code",
   "execution_count": 21,
   "metadata": {},
   "outputs": [
    {
     "data": {
      "text/plain": [
       "0"
      ]
     },
     "execution_count": 21,
     "metadata": {},
     "output_type": "execute_result"
    }
   ],
   "source": [
    "list_of_loops_2[0][0][0]"
   ]
  },
  {
   "cell_type": "code",
   "execution_count": 22,
   "metadata": {},
   "outputs": [
    {
     "name": "stdout",
     "output_type": "stream",
     "text": [
      "0\n",
      "3\n",
      "3\n",
      "7\n",
      "7\n",
      "4\n",
      "4\n",
      "0\n",
      "0\n",
      "8\n",
      "8\n",
      "1\n",
      "1\n",
      "2\n",
      "2\n",
      "5\n",
      "5\n",
      "6\n",
      "6\n",
      "0\n"
     ]
    }
   ],
   "source": [
    "for k in range(len(list_of_loops_2)):\n",
    "    for i,j in list_of_loops_2[k]:\n",
    "        print(i)\n",
    "        print(j)"
   ]
  }
 ],
 "metadata": {
  "kernelspec": {
   "display_name": "Python 3",
   "language": "python",
   "name": "python3"
  },
  "language_info": {
   "codemirror_mode": {
    "name": "ipython",
    "version": 3
   },
   "file_extension": ".py",
   "mimetype": "text/x-python",
   "name": "python",
   "nbconvert_exporter": "python",
   "pygments_lexer": "ipython3",
   "version": "3.11.8"
  }
 },
 "nbformat": 4,
 "nbformat_minor": 2
}
