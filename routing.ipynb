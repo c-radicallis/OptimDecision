{
 "cells": [
  {
   "cell_type": "markdown",
   "metadata": {},
   "source": [
    "# Capacitated Vehicle Routing Problem\n",
    "\n",
    "<img src=\"http://neo.lcc.uma.es/dynamic/images/vrp.png\" width=\"400\" />\n",
    "\n",
    "- $n$ is the number of clientes\n",
    "- $N$ is set of clients, with $N=\\{1,2,...,n\\}$\n",
    "- $V$ is set of vetices (or nodes), with $V=\\{0\\}\\cup N$\n",
    "- $A$ is set of arcs, with $A=\\{(i,j)\\in V^2 : i\\neq j\\}$\n",
    "- $c_{ij}$ is cost of travel over arc $(i,j)\\in A$\n",
    "- $Q$ is the vehicle capacity\n",
    "- $q_i$ is the amount that has to be delivered to customer $i\\in N$\n",
    "\n",
    "Then, the formulation is the following\n",
    "$$\\begin{align}\n",
    "\\min \\quad & \\sum_{i,j\\in A} c_{ij} x_{ij} \\\\\n",
    "\\text{s.t.} \\quad & \\sum_{j\\in V , j\\neq i} x_{ij} = 1  && i \\in N \\\\\n",
    "& \\sum_{i\\in V , i\\neq j} x_{ij} = 1 && j \\in N \\\\\n",
    "& \\text{if} \\ x_{ij}=1 \\ \\Rightarrow \\ u_i + q_j = u_j && i,j \\in A : j\\neq 0, i\\neq 0 \\\\\n",
    "& q_i \\leq u_i \\leq Q && i \\in N \\\\\n",
    "& x_{ij} \\in \\{0,1\\} && i,j \\in A\n",
    "\\end{align}$$"
   ]
  },
  {
   "cell_type": "code",
   "execution_count": 25,
   "metadata": {},
   "outputs": [],
   "source": [
    "import pandas as pd\n",
    "import numpy as np\n",
    "import matplotlib.pyplot as plt\n",
    "from docplex.mp.model import Model"
   ]
  },
  {
   "cell_type": "code",
   "execution_count": 26,
   "metadata": {},
   "outputs": [
    {
     "data": {
      "text/html": [
       "<div>\n",
       "<style scoped>\n",
       "    .dataframe tbody tr th:only-of-type {\n",
       "        vertical-align: middle;\n",
       "    }\n",
       "\n",
       "    .dataframe tbody tr th {\n",
       "        vertical-align: top;\n",
       "    }\n",
       "\n",
       "    .dataframe thead th {\n",
       "        text-align: right;\n",
       "    }\n",
       "</style>\n",
       "<table border=\"1\" class=\"dataframe\">\n",
       "  <thead>\n",
       "    <tr style=\"text-align: right;\">\n",
       "      <th></th>\n",
       "      <th>CUST NO.</th>\n",
       "      <th>XCOORD.</th>\n",
       "      <th>YCOORD.</th>\n",
       "      <th>DEMAND</th>\n",
       "      <th>READY TIME</th>\n",
       "      <th>DUE DATE</th>\n",
       "      <th>SERVICE TIME</th>\n",
       "    </tr>\n",
       "  </thead>\n",
       "  <tbody>\n",
       "    <tr>\n",
       "      <th>0</th>\n",
       "      <td>1</td>\n",
       "      <td>35.0</td>\n",
       "      <td>35.0</td>\n",
       "      <td>0.0</td>\n",
       "      <td>0.0</td>\n",
       "      <td>230.0</td>\n",
       "      <td>0.0</td>\n",
       "    </tr>\n",
       "    <tr>\n",
       "      <th>1</th>\n",
       "      <td>2</td>\n",
       "      <td>41.0</td>\n",
       "      <td>49.0</td>\n",
       "      <td>10.0</td>\n",
       "      <td>161.0</td>\n",
       "      <td>171.0</td>\n",
       "      <td>10.0</td>\n",
       "    </tr>\n",
       "    <tr>\n",
       "      <th>2</th>\n",
       "      <td>3</td>\n",
       "      <td>35.0</td>\n",
       "      <td>17.0</td>\n",
       "      <td>7.0</td>\n",
       "      <td>50.0</td>\n",
       "      <td>60.0</td>\n",
       "      <td>10.0</td>\n",
       "    </tr>\n",
       "    <tr>\n",
       "      <th>3</th>\n",
       "      <td>4</td>\n",
       "      <td>55.0</td>\n",
       "      <td>45.0</td>\n",
       "      <td>13.0</td>\n",
       "      <td>116.0</td>\n",
       "      <td>126.0</td>\n",
       "      <td>10.0</td>\n",
       "    </tr>\n",
       "    <tr>\n",
       "      <th>4</th>\n",
       "      <td>5</td>\n",
       "      <td>55.0</td>\n",
       "      <td>20.0</td>\n",
       "      <td>19.0</td>\n",
       "      <td>149.0</td>\n",
       "      <td>159.0</td>\n",
       "      <td>10.0</td>\n",
       "    </tr>\n",
       "  </tbody>\n",
       "</table>\n",
       "</div>"
      ],
      "text/plain": [
       "   CUST NO.  XCOORD.  YCOORD.  DEMAND  READY TIME  DUE DATE  SERVICE TIME\n",
       "0         1     35.0     35.0     0.0         0.0     230.0           0.0\n",
       "1         2     41.0     49.0    10.0       161.0     171.0          10.0\n",
       "2         3     35.0     17.0     7.0        50.0      60.0          10.0\n",
       "3         4     55.0     45.0    13.0       116.0     126.0          10.0\n",
       "4         5     55.0     20.0    19.0       149.0     159.0          10.0"
      ]
     },
     "execution_count": 26,
     "metadata": {},
     "output_type": "execute_result"
    }
   ],
   "source": [
    "file_path = 'dataset.txt'\n",
    "column_names = [\"CUST NO.\", \"XCOORD.\", \"YCOORD.\", \"DEMAND\", \"READY TIME\", \"DUE DATE\", \"SERVICE TIME\"]\n",
    "\n",
    "df = pd.read_csv(file_path, delim_whitespace=True, names=column_names)\n",
    "df = df.head(11)\n",
    "\n",
    "df.head()"
   ]
  },
  {
   "cell_type": "code",
   "execution_count": 27,
   "metadata": {},
   "outputs": [],
   "source": [
    "xc = df['XCOORD.'].values\n",
    "yc = df['YCOORD.'].values"
   ]
  },
  {
   "cell_type": "code",
   "execution_count": 28,
   "metadata": {},
   "outputs": [
    {
     "data": {
      "image/png": "[encoded data removed]",
      "text/plain": [
       "<Figure size 640x480 with 1 Axes>"
      ]
     },
     "metadata": {},
     "output_type": "display_data"
    }
   ],
   "source": [
    "plt.plot(df[\"XCOORD.\"], df[\"YCOORD.\"], \".\", color=\"blue\", markersize=10, label=\"Data Points\")\n",
    "plt.plot(df[\"XCOORD.\"][0], df[\"YCOORD.\"][0], \"o\", color=\"red\", markersize=10, label=\"Starting Point\")\n",
    "\n",
    "plt.xlabel(\"X Coordinate\")\n",
    "plt.ylabel(\"Y Coordinate\")\n",
    "plt.title(\"Data Points Distribution\")\n",
    "\n",
    "plt.xlim(0)\n",
    "plt.ylim(0)\n",
    "\n",
    "plt.grid(True)\n",
    "plt.legend(bbox_to_anchor=(1.05, 0), loc='lower left', borderaxespad=0.)\n",
    "plt.show()"
   ]
  },
  {
   "cell_type": "code",
   "execution_count": 29,
   "metadata": {},
   "outputs": [],
   "source": [
    "n = len(df)-1\n",
    "N = [i for i in range(1, n+1)]\n",
    "V = [0] + N\n",
    "A = [(i, j) for i in V for j in V if i != j]\n",
    "c = {(i, j): np.hypot(xc[i]-xc[j], yc[i]-yc[j]) for i, j in A}\n",
    "Q = 200\n",
    "q = df['DEMAND'].values"
   ]
  },
  {
   "cell_type": "code",
   "execution_count": 30,
   "metadata": {},
   "outputs": [],
   "source": [
    "mdl = Model('CVRP')"
   ]
  },
  {
   "cell_type": "code",
   "execution_count": 31,
   "metadata": {},
   "outputs": [],
   "source": [
    "x = mdl.binary_var_dict(A, name='x')\n",
    "u = mdl.continuous_var_dict(N, ub=Q, name='u')"
   ]
  },
  {
   "cell_type": "code",
   "execution_count": 32,
   "metadata": {},
   "outputs": [
    {
     "name": "stdout",
     "output_type": "stream",
     "text": [
      "Version identifier: 22.1.1.0 | 2023-06-15 | d64d5bd77\n",
      "CPXPARAM_Read_DataCheck                          1\n",
      "CPXPARAM_TimeLimit                               15\n",
      "Found incumbent of value 434.721651 after 0.00 sec. (0.01 ticks)\n",
      "Tried aggregator 2 times.\n",
      "MIP Presolve eliminated 10 rows and 0 columns.\n",
      "MIP Presolve modified 45 coefficients.\n",
      "Aggregator did 45 substitutions.\n",
      "Reduced MIP has 65 rows, 165 columns, and 335 nonzeros.\n",
      "Reduced MIP has 110 binaries, 0 generals, 0 SOSs, and 90 indicators.\n",
      "Presolve time = 0.01 sec. (0.35 ticks)\n",
      "Probing time = 0.00 sec. (0.32 ticks)\n",
      "Tried aggregator 1 time.\n",
      "Detecting symmetries...\n",
      "Reduced MIP has 65 rows, 165 columns, and 335 nonzeros.\n",
      "Reduced MIP has 110 binaries, 0 generals, 0 SOSs, and 90 indicators.\n",
      "Presolve time = 0.00 sec. (0.23 ticks)\n",
      "Probing time = 0.00 sec. (0.31 ticks)\n",
      "Clique table members: 65.\n",
      "MIP emphasis: balance optimality and feasibility.\n",
      "MIP search method: dynamic search.\n",
      "Parallel mode: deterministic, using up to 8 threads.\n",
      "Root relaxation solution time = 0.00 sec. (0.11 ticks)\n",
      "\n",
      "        Nodes                                         Cuts/\n",
      "   Node  Left     Objective  IInf  Best Integer    Best Bound    ItCnt     Gap\n",
      "\n",
      "*     0+    0                          434.7217        0.0000           100.00%\n",
      "      0     0      145.9733    10      434.7217      145.9733        6   66.42%\n",
      "*     0+    0                          189.7056      145.9733            23.05%\n",
      "      0     0      160.2629     5      189.7056      Cuts: 24       26   15.52%\n"
     ]
    },
    {
     "name": "stdout",
     "output_type": "stream",
     "text": [
      "      0     0      160.2629    20      189.7056  Impl Bds: 10       30   15.52%\n",
      "*     0+    0                          185.4332      160.2629            13.57%\n",
      "*     0+    0                          182.0588      160.2629            11.97%\n",
      "Detecting symmetries...\n",
      "      0     2      160.2629    10      182.0588      160.2629       30   11.97%\n",
      "Elapsed time = 0.08 sec. (4.08 ticks, tree = 0.02 MB, solutions = 4)\n",
      "*    33+    8                          173.0420      160.6820             7.14%\n",
      "\n",
      "Clique cuts applied:  5\n",
      "Implied bound cuts applied:  42\n",
      "\n",
      "Root node processing (before b&c):\n",
      "  Real time             =    0.08 sec. (4.04 ticks)\n",
      "Parallel b&c, 8 threads:\n",
      "  Real time             =    0.01 sec. (2.19 ticks)\n",
      "  Sync time (average)   =    0.01 sec.\n",
      "  Wait time (average)   =    0.00 sec.\n",
      "                          ------------\n",
      "Total (root+branch&cut) =    0.09 sec. (6.23 ticks)\n"
     ]
    }
   ],
   "source": [
    "mdl.minimize(mdl.sum(c[i, j]*x[i, j] for i, j in A))\n",
    "mdl.add_constraints(mdl.sum(x[i, j] for j in V if j != i) == 1 for i in N)\n",
    "mdl.add_constraints(mdl.sum(x[i, j] for i in V if i != j) == 1 for j in N)\n",
    "mdl.add_indicator_constraints(mdl.indicator_constraint(x[i, j], u[i]+q[j] == u[j]) for i, j in A if i != 0 and j != 0)\n",
    "mdl.add_constraints(u[i] >= q[i] for i in N)\n",
    "mdl.parameters.timelimit = 15\n",
    "solution = mdl.solve(log_output=True)"
   ]
  },
  {
   "cell_type": "code",
   "execution_count": 33,
   "metadata": {},
   "outputs": [
    {
     "name": "stdout",
     "output_type": "stream",
     "text": [
      "solution for: CVRP\n",
      "objective: 173.042\n",
      "status: OPTIMAL_SOLUTION(2)\n",
      "x_0_6=1\n",
      "x_1_9=1\n",
      "x_2_0=1\n",
      "x_3_4=1\n",
      "x_4_2=1\n",
      "x_5_8=1\n",
      "x_6_5=1\n",
      "x_7_10=1\n",
      "x_8_7=1\n",
      "x_9_3=1\n",
      "x_10_1=1\n",
      "u_1=69.000\n",
      "u_2=124.000\n",
      "u_3=98.000\n",
      "u_4=117.000\n",
      "u_5=29.000\n",
      "u_6=3.000\n",
      "u_7=43.000\n",
      "u_8=38.000\n",
      "u_9=85.000\n",
      "u_10=59.000\n",
      "\n"
     ]
    }
   ],
   "source": [
    "print(solution)"
   ]
  },
  {
   "cell_type": "code",
   "execution_count": 34,
   "metadata": {},
   "outputs": [
    {
     "data": {
      "text/plain": [
       "<JobSolveStatus.OPTIMAL_SOLUTION: 2>"
      ]
     },
     "execution_count": 34,
     "metadata": {},
     "output_type": "execute_result"
    }
   ],
   "source": [
    "solution.solve_status"
   ]
  },
  {
   "cell_type": "code",
   "execution_count": 35,
   "metadata": {},
   "outputs": [],
   "source": [
    "active_arcs = [a for a in A if x[a].solution_value > 0.9]"
   ]
  },
  {
   "cell_type": "code",
   "execution_count": 41,
   "metadata": {},
   "outputs": [
    {
     "data": {
      "text/plain": [
       "(7.75, 57.25, 14.85, 62.15)"
      ]
     },
     "execution_count": 41,
     "metadata": {},
     "output_type": "execute_result"
    },
    {
     "data": {
      "image/png": "[encoded data removed]",
      "text/plain": [
       "<Figure size 640x480 with 1 Axes>"
      ]
     },
     "metadata": {},
     "output_type": "display_data"
    }
   ],
   "source": [
    "plt.scatter(xc[1:], yc[1:], c='b')\n",
    "\n",
    "for i, j in active_arcs:\n",
    "    plt.plot([xc[i], xc[j]], [yc[i], yc[j]], c='g', alpha=0.3)\n",
    "plt.plot(xc[0], yc[0], c='r', marker='s')\n",
    "plt.axis('equal')"
   ]
  }
 ],
 "metadata": {
  "kernelspec": {
   "display_name": "Python 3",
   "language": "python",
   "name": "python3"
  },
  "language_info": {
   "codemirror_mode": {
    "name": "ipython",
    "version": 3
   },
   "file_extension": ".py",
   "mimetype": "text/x-python",
   "name": "python",
   "nbconvert_exporter": "python",
   "pygments_lexer": "ipython3",
   "version": "3.11.8"
  }
 },
 "nbformat": 4,
 "nbformat_minor": 2
}
