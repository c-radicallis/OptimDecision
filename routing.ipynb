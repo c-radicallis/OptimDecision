{
 "cells": [
  {
   "cell_type": "markdown",
   "metadata": {},
   "source": [
    "# Capacitated Vehicle Routing Problem\n",
    "\n",
    "- $n$ is the number of clientes\n",
    "- $N$ is set of clients, with $N=\\{1,2,...,n\\}$\n",
    "- $V$ is set of vetices (or nodes), with $V=\\{0\\}\\cup N$\n",
    "- $A$ is set of arcs, with $A=\\{(i,j)\\in V^2 : i\\neq j\\}$\n",
    "- $c_{ij}$ is cost of travel over arc $(i,j)\\in A$\n",
    "- $Q$ is the vehicle capacity\n",
    "- $q_i$ is the amount that has to be delivered to customer $i\\in N$\n",
    "\n",
    "Then, the formulation is the following\n",
    "$$\\begin{align}\n",
    "\\min \\quad & \\sum_{i,j\\in A} c_{ij} x_{ij} \\\\\n",
    "\\text{s.t.} \\quad & \\sum_{j\\in V , j\\neq i} x_{ij} = 1  && i \\in N \\\\\n",
    "& \\sum_{i\\in V , i\\neq j} x_{ij} = 1 && j \\in N \\\\\n",
    "& \\text{if} \\ x_{ij}=1 \\ \\Rightarrow \\ u_i + q_j = u_j && i,j \\in A : j\\neq 0, i\\neq 0 \\\\\n",
    "& q_i \\leq u_i \\leq Q && i \\in N \\\\\n",
    "& x_{ij} \\in \\{0,1\\} && i,j \\in A\n",
    "\\end{align}$$"
   ]
  },
  {
   "cell_type": "code",
   "execution_count": 1,
   "metadata": {},
   "outputs": [],
   "source": [
    "import pandas as pd\n",
    "import numpy as np\n",
    "import matplotlib.pyplot as plt\n",
    "from docplex.mp.model import Model"
   ]
  },
  {
   "cell_type": "code",
   "execution_count": 2,
   "metadata": {},
   "outputs": [
    {
     "data": {
      "text/html": [
       "<div>\n",
       "<style scoped>\n",
       "    .dataframe tbody tr th:only-of-type {\n",
       "        vertical-align: middle;\n",
       "    }\n",
       "\n",
       "    .dataframe tbody tr th {\n",
       "        vertical-align: top;\n",
       "    }\n",
       "\n",
       "    .dataframe thead th {\n",
       "        text-align: right;\n",
       "    }\n",
       "</style>\n",
       "<table border=\"1\" class=\"dataframe\">\n",
       "  <thead>\n",
       "    <tr style=\"text-align: right;\">\n",
       "      <th></th>\n",
       "      <th>CUST NO.</th>\n",
       "      <th>XCOORD.</th>\n",
       "      <th>YCOORD.</th>\n",
       "      <th>DEMAND</th>\n",
       "      <th>READY TIME</th>\n",
       "      <th>DUE DATE</th>\n",
       "      <th>SERVICE TIME</th>\n",
       "    </tr>\n",
       "  </thead>\n",
       "  <tbody>\n",
       "    <tr>\n",
       "      <th>0</th>\n",
       "      <td>1</td>\n",
       "      <td>35.0</td>\n",
       "      <td>35.0</td>\n",
       "      <td>0.0</td>\n",
       "      <td>0.0</td>\n",
       "      <td>230.0</td>\n",
       "      <td>0.0</td>\n",
       "    </tr>\n",
       "    <tr>\n",
       "      <th>1</th>\n",
       "      <td>2</td>\n",
       "      <td>41.0</td>\n",
       "      <td>49.0</td>\n",
       "      <td>10.0</td>\n",
       "      <td>161.0</td>\n",
       "      <td>171.0</td>\n",
       "      <td>10.0</td>\n",
       "    </tr>\n",
       "    <tr>\n",
       "      <th>2</th>\n",
       "      <td>3</td>\n",
       "      <td>35.0</td>\n",
       "      <td>17.0</td>\n",
       "      <td>7.0</td>\n",
       "      <td>50.0</td>\n",
       "      <td>60.0</td>\n",
       "      <td>10.0</td>\n",
       "    </tr>\n",
       "    <tr>\n",
       "      <th>3</th>\n",
       "      <td>4</td>\n",
       "      <td>55.0</td>\n",
       "      <td>45.0</td>\n",
       "      <td>13.0</td>\n",
       "      <td>116.0</td>\n",
       "      <td>126.0</td>\n",
       "      <td>10.0</td>\n",
       "    </tr>\n",
       "    <tr>\n",
       "      <th>4</th>\n",
       "      <td>5</td>\n",
       "      <td>55.0</td>\n",
       "      <td>20.0</td>\n",
       "      <td>19.0</td>\n",
       "      <td>149.0</td>\n",
       "      <td>159.0</td>\n",
       "      <td>10.0</td>\n",
       "    </tr>\n",
       "  </tbody>\n",
       "</table>\n",
       "</div>"
      ],
      "text/plain": [
       "   CUST NO.  XCOORD.  YCOORD.  DEMAND  READY TIME  DUE DATE  SERVICE TIME\n",
       "0         1     35.0     35.0     0.0         0.0     230.0           0.0\n",
       "1         2     41.0     49.0    10.0       161.0     171.0          10.0\n",
       "2         3     35.0     17.0     7.0        50.0      60.0          10.0\n",
       "3         4     55.0     45.0    13.0       116.0     126.0          10.0\n",
       "4         5     55.0     20.0    19.0       149.0     159.0          10.0"
      ]
     },
     "execution_count": 2,
     "metadata": {},
     "output_type": "execute_result"
    }
   ],
   "source": [
    "file_path = 'dataset.txt'\n",
    "column_names = [\"CUST NO.\", \"XCOORD.\", \"YCOORD.\", \"DEMAND\", \"READY TIME\", \"DUE DATE\", \"SERVICE TIME\"]\n",
    "\n",
    "df = pd.read_csv(file_path, delim_whitespace=True, names=column_names)\n",
    "\n",
    "number_of_customers=25\n",
    "df = df.head(number_of_customers+1)\n",
    "\n",
    "df.head()"
   ]
  },
  {
   "cell_type": "code",
   "execution_count": 3,
   "metadata": {},
   "outputs": [],
   "source": [
    "xc = df['XCOORD.'].values\n",
    "yc = df['YCOORD.'].values"
   ]
  },
  {
   "cell_type": "code",
   "execution_count": 4,
   "metadata": {},
   "outputs": [
    {
     "data": {
      "image/png": "[encoded data removed]",
      "text/plain": [
       "<Figure size 640x480 with 1 Axes>"
      ]
     },
     "metadata": {},
     "output_type": "display_data"
    }
   ],
   "source": [
    "plt.plot(df[\"XCOORD.\"], df[\"YCOORD.\"], \".\", color=\"blue\", markersize=10, label=\"Data Points\")\n",
    "plt.plot(df[\"XCOORD.\"][0], df[\"YCOORD.\"][0], \"o\", color=\"red\", markersize=10, label=\"Starting Point\")\n",
    "\n",
    "plt.xlabel(\"X Coordinate\")\n",
    "plt.ylabel(\"Y Coordinate\")\n",
    "plt.title(\"Data Points Distribution\")\n",
    "\n",
    "plt.xlim(0)\n",
    "plt.ylim(0)\n",
    "plt.axis('equal')\n",
    "\n",
    "plt.grid(True)\n",
    "plt.legend(bbox_to_anchor=(1.05, 0), loc='lower left', borderaxespad=0.)\n",
    "plt.show()"
   ]
  },
  {
   "cell_type": "code",
   "execution_count": 5,
   "metadata": {},
   "outputs": [],
   "source": [
    "n = len(df)-1\n",
    "N = [i for i in range(1, n+1)]\n",
    "V = [0] + N\n",
    "A = [(i, j) for i in V for j in V if i != j]\n",
    "c = {(i, j): np.hypot(xc[i]-xc[j], yc[i]-yc[j]) for i, j in A}\n",
    "st = df['SERVICE TIME'].values\n",
    "t = {(i,j): c[(i,j)] + st[j] for i, j in A}\n",
    "Q = 200\n",
    "q = df['DEMAND'].values"
   ]
  },
  {
   "cell_type": "code",
   "execution_count": 6,
   "metadata": {},
   "outputs": [],
   "source": [
    "mdl = Model('CVRP')"
   ]
  },
  {
   "cell_type": "code",
   "execution_count": 7,
   "metadata": {},
   "outputs": [],
   "source": [
    "x = mdl.binary_var_dict(A, name='x')\n",
    "u = mdl.continuous_var_dict(N, ub=Q, name='u')"
   ]
  },
  {
   "cell_type": "code",
   "execution_count": 8,
   "metadata": {},
   "outputs": [
    {
     "name": "stdout",
     "output_type": "stream",
     "text": [
      "Version identifier: 22.1.1.0 | 2023-06-15 | d64d5bd77\n",
      "CPXPARAM_Read_DataCheck                          1\n",
      "CPXPARAM_TimeLimit                               45\n",
      "Found incumbent of value 1496.160180 after 0.00 sec. (0.06 ticks)\n",
      "Tried aggregator 2 times.\n",
      "MIP Presolve eliminated 25 rows and 0 columns.\n",
      "MIP Presolve modified 300 coefficients.\n",
      "Aggregator did 300 substitutions.\n",
      "Reduced MIP has 350 rows, 975 columns, and 2150 nonzeros.\n",
      "Reduced MIP has 650 binaries, 0 generals, 0 SOSs, and 600 indicators.\n",
      "Presolve time = 0.03 sec. (2.69 ticks)\n",
      "Probing time = 0.03 sec. (5.07 ticks)\n",
      "Tried aggregator 1 time.\n",
      "Detecting symmetries...\n",
      "Reduced MIP has 350 rows, 975 columns, and 2150 nonzeros.\n",
      "Reduced MIP has 650 binaries, 0 generals, 0 SOSs, and 600 indicators.\n",
      "Presolve time = 0.01 sec. (1.53 ticks)\n",
      "Probing time = 0.02 sec. (2.29 ticks)\n",
      "Clique table members: 350.\n",
      "MIP emphasis: balance optimality and feasibility.\n",
      "MIP search method: dynamic search.\n",
      "Parallel mode: deterministic, using up to 8 threads.\n",
      "Root relaxation solution time = 0.00 sec. (0.78 ticks)\n",
      "\n",
      "        Nodes                                         Cuts/\n",
      "   Node  Left     Objective  IInf  Best Integer    Best Bound    ItCnt     Gap\n",
      "\n",
      "*     0+    0                         1496.1602        0.0000           100.00%\n",
      "      0     0      527.4866    25     1496.1602      527.4866       34   64.74%\n",
      "      0     0      545.9763    34     1496.1602      Cuts: 49       71   63.51%\n",
      "      0     0      548.5832    33     1496.1602      Cuts: 16       90   63.33%\n",
      "      0     0      548.5832    47     1496.1602      Cuts: 18      104   63.33%\n",
      "      0     0      548.5832    30     1496.1602       Cuts: 3      110   63.33%\n",
      "      0     0      548.5832    27     1496.1602      Cuts: 70      121   63.33%\n",
      "Detecting symmetries...\n",
      "*     0+    0                          719.5469      548.5832            23.76%\n",
      "*     0+    0                          685.8920      548.5832            20.02%\n",
      "Detecting symmetries...\n",
      "      0     2      548.5832    27      685.8920      548.5832      121   20.02%\n",
      "Elapsed time = 0.33 sec. (42.14 ticks, tree = 0.02 MB, solutions = 3)\n",
      "*   180+   94                          633.2893      548.5832            13.38%\n",
      "*   346   202      integral     0      627.0974      548.5832     2125   12.52%\n",
      "*   360   236      integral     0      619.1945      548.5832     2254   11.40%\n",
      "*  1154+  740                          618.5571      548.6609            11.30%\n",
      "*  2881  1904      integral     0      615.3555      549.6243    18026   10.68%\n",
      "*  3583+ 2365                          604.0506      550.2521             8.91%\n",
      "\n",
      "Performing restart 1\n",
      "\n",
      "Repeating presolve.\n",
      "Tried aggregator 1 time.\n",
      "Reduced MIP has 350 rows, 975 columns, and 2150 nonzeros.\n",
      "Reduced MIP has 650 binaries, 0 generals, 0 SOSs, and 600 indicators.\n",
      "Presolve time = 0.01 sec. (1.11 ticks)\n",
      "Tried aggregator 1 time.\n",
      "Reduced MIP has 350 rows, 975 columns, and 2150 nonzeros.\n",
      "Reduced MIP has 650 binaries, 0 generals, 0 SOSs, and 600 indicators.\n",
      "Presolve time = 0.02 sec. (1.64 ticks)\n",
      "Represolve time = 0.06 sec. (10.27 ticks)\n",
      "   3621     0      548.6247    62      604.0506       Cuts: 6    29151    8.82%\n",
      "   3621     0      549.1244    58      604.0506      Fract: 2    29167    8.82%\n",
      "   3621     0      549.3951    44      604.0506      Cuts: 28    29196    8.82%\n",
      "   3621     0      549.3951    47      604.0506      Cuts: 74    29222    8.82%\n",
      "   3621     0      549.7776    23      604.0506      Fract: 1    29228    8.82%\n",
      "   3621     0      550.4985    27      604.0506     Cuts: 141    29261    8.82%\n",
      "   3621     0      551.5192    54      604.0506      Cuts: 89    29309    8.70%\n",
      "   3621     0      551.5622    55      604.0506      Cuts: 36    29330    8.69%\n",
      "   3621     0      551.5622    35      604.0506      Cuts: 42    29342    8.69%\n",
      "   3621     0      551.7280    56      604.0506      Cuts: 83    29388    8.66%\n",
      "   3621     0      551.8079    20      604.0506      Cuts: 24    29397    8.65%\n",
      "   3621     0      551.8079    33      604.0506      Cuts: 87    29434    8.65%\n",
      "   3621     0      551.8079    33      604.0506      Cuts: 11    29447    8.65%\n",
      "   3621     2      551.8079    22      604.0506      551.8079    29447    8.65%\n",
      "   6454  1719      579.1005    13      604.0506      553.0364    50431    8.45%\n",
      "   9844  3698      586.1296     5      604.0506      554.7089    80872    8.17%\n",
      "  13615  5723      561.4160    12      604.0506      556.0281   112344    7.95%\n",
      "* 14837+ 6691                          595.8496      556.3155             6.63%\n",
      "  17507  7671    infeasible            595.8496      556.8844   145806    6.54%\n",
      "  21005  9276      560.7266    10      595.8496      557.6091   170352    6.42%\n",
      "  24903 11572      581.8085    13      595.8496      558.2689   206211    6.31%\n",
      "  28429 13114      592.2870     8      595.8496      558.8574   230745    6.21%\n",
      "  32453 15460      569.1692    31      595.8496      559.1961   265542    6.15%\n",
      "* 33607 16072      integral     0      592.7490      559.3127   275372    5.64%\n",
      "* 38070+18597                          592.0036      559.9454             5.42%\n",
      "* 38430+18597                          591.4818      559.9742             5.33%\n",
      "  42456 21436      578.7903    32      591.4818      559.9742   369691    5.33%\n",
      "Elapsed time = 14.67 sec. (3257.30 ticks, tree = 12.71 MB, solutions = 11)\n",
      "* 46354+18112                          591.4457      559.9742             5.32%\n",
      "  50425 25453      568.3130    19      591.4457      559.9742   441971    5.32%\n",
      "* 56438+27358                          588.0244      559.9742             4.77%\n",
      "\n",
      "Performing restart 2\n",
      "\n",
      "Repeating presolve.\n",
      "Tried aggregator 1 time.\n",
      "MIP Presolve eliminated 45 rows and 135 columns.\n",
      "Reduced MIP has 305 rows, 840 columns, and 1835 nonzeros.\n",
      "Reduced MIP has 560 binaries, 0 generals, 0 SOSs, and 510 indicators.\n",
      "Presolve time = 0.00 sec. (1.28 ticks)\n",
      "Tried aggregator 1 time.\n",
      "Reduced MIP has 305 rows, 840 columns, and 1835 nonzeros.\n",
      "Reduced MIP has 560 binaries, 0 generals, 0 SOSs, and 510 indicators.\n",
      "Presolve time = 0.02 sec. (1.35 ticks)\n",
      "Represolve time = 0.12 sec. (18.53 ticks)\n",
      "  59818     0      551.8089    63      588.0244      Cuts: 12   533668    4.49%\n",
      "  59818     0      552.3175    47      588.0244       Cuts: 9   533692    4.49%\n",
      "  59818     0      552.3175    51      588.0244      Cuts: 83   533739    4.49%\n",
      "  59818     0      552.3433    57      588.0244      Cuts: 53   533766    4.49%\n",
      "  59818     0      552.3433    59      588.0244       Cuts: 9   533774    4.49%\n",
      "  59818     0      552.3433    56      588.0244      Cuts: 38   533815    4.49%\n",
      "  59818     0      552.3433    51      588.0244      Cuts: 16   533834    4.49%\n",
      "  59818     2      552.3433    51      588.0244      561.6377   533834    4.49%\n",
      "  68045  4284      562.2108    24      588.0244      561.6377   619766    4.49%\n",
      "  78158  9902        cutoff            588.0244      561.6377   725788    4.49%\n",
      "  87535 14958      583.6525    15      588.0244      561.6377   831338    4.49%\n",
      "Starting limited solution polishing.\n",
      "  96748 19221      565.5124    26      588.0244      562.2174   927378    4.39%\n",
      "\n",
      "Clique cuts applied:  17\n",
      "Cover cuts applied:  8\n",
      "Implied bound cuts applied:  285\n",
      "Flow cuts applied:  3\n",
      "Mixed integer rounding cuts applied:  12\n",
      "Zero-half cuts applied:  8\n",
      "Gomory fractional cuts applied:  13\n",
      "\n",
      "Root node processing (before b&c):\n",
      "  Real time             =    0.31 sec. (41.96 ticks)\n",
      "Parallel b&c, 8 threads:\n",
      "  Real time             =   44.73 sec. (10006.27 ticks)\n",
      "  Sync time (average)   =    6.48 sec.\n",
      "  Wait time (average)   =    0.11 sec.\n",
      "                          ------------\n",
      "Total (root+branch&cut) =   45.05 sec. (10048.23 ticks)\n"
     ]
    }
   ],
   "source": [
    "mdl.minimize(mdl.sum(t[i, j]*x[i, j] for i, j in A))\n",
    "mdl.add_constraints(mdl.sum(x[i, j] for j in V if j != i) == 1 for i in N)\n",
    "mdl.add_constraints(mdl.sum(x[i, j] for i in V if i != j) == 1 for j in N)\n",
    "mdl.add_indicator_constraints(mdl.indicator_constraint(x[i, j], u[i]+q[j] == u[j]) for i, j in A if i != 0 and j != 0)\n",
    "mdl.add_constraints(u[i] >= q[i] for i in N)\n",
    "mdl.parameters.timelimit = 45\n",
    "solution = mdl.solve(log_output=True)"
   ]
  },
  {
   "cell_type": "code",
   "execution_count": 9,
   "metadata": {},
   "outputs": [
    {
     "name": "stdout",
     "output_type": "stream",
     "text": [
      "solution for: CVRP\n",
      "objective: 588.024\n",
      "status: FEASIBLE_SOLUTION(1)\n",
      "x_0_2=1\n",
      "x_0_6=1\n",
      "x_1_0=1\n",
      "x_2_15=1\n",
      "x_3_12=1\n",
      "x_4_25=1\n",
      "x_5_18=1\n",
      "x_6_13=1\n",
      "x_7_19=1\n",
      "x_8_7=1\n",
      "x_9_1=1\n",
      "x_10_20=1\n",
      "x_11_10=1\n",
      "x_12_0=1\n",
      "x_13_21=1\n",
      "x_14_16=1\n",
      "x_15_14=1\n",
      "x_16_17=1\n",
      "x_17_5=1\n",
      "x_18_8=1\n",
      "x_19_11=1\n",
      "x_20_9=1\n",
      "x_21_22=1\n",
      "x_22_23=1\n",
      "x_23_4=1\n",
      "x_24_3=1\n",
      "x_25_24=1\n",
      "u_1=188.000\n",
      "u_2=7.000\n",
      "u_3=181.000\n",
      "u_4=159.000\n",
      "u_5=82.000\n",
      "u_6=59.000\n",
      "u_7=108.000\n",
      "u_8=103.000\n",
      "u_9=178.000\n",
      "u_10=153.000\n",
      "u_11=137.000\n",
      "u_12=200.000\n",
      "u_13=82.000\n",
      "u_14=35.000\n",
      "u_15=15.000\n",
      "u_16=54.000\n",
      "u_17=56.000\n",
      "u_18=94.000\n",
      "u_19=125.000\n",
      "u_20=162.000\n",
      "u_21=93.000\n",
      "u_22=111.000\n",
      "u_23=140.000\n",
      "u_24=168.000\n",
      "u_25=165.000\n",
      "\n"
     ]
    }
   ],
   "source": [
    "print(solution)"
   ]
  },
  {
   "cell_type": "code",
   "execution_count": 10,
   "metadata": {},
   "outputs": [
    {
     "data": {
      "text/plain": [
       "<JobSolveStatus.FEASIBLE_SOLUTION: 1>"
      ]
     },
     "execution_count": 10,
     "metadata": {},
     "output_type": "execute_result"
    }
   ],
   "source": [
    "solution.solve_status"
   ]
  },
  {
   "cell_type": "code",
   "execution_count": 11,
   "metadata": {},
   "outputs": [],
   "source": [
    "active_arcs = [a for a in A if x[a].solution_value > 0.9]"
   ]
  },
  {
   "cell_type": "code",
   "execution_count": 12,
   "metadata": {},
   "outputs": [
    {
     "data": {
      "image/png": "[encoded data removed]",
      "text/plain": [
       "<Figure size 640x480 with 1 Axes>"
      ]
     },
     "metadata": {},
     "output_type": "display_data"
    }
   ],
   "source": [
    "for i, j in active_arcs:\n",
    "    plt.plot([xc[i], xc[j]], [yc[i], yc[j]], c='g', alpha=0.3)\n",
    "\n",
    "plt.plot(df[\"XCOORD.\"], df[\"YCOORD.\"], \".\", color=\"blue\", markersize=10, label=\"Data Points\")\n",
    "plt.plot(df[\"XCOORD.\"][0], df[\"YCOORD.\"][0], \"o\", color=\"red\", markersize=10, label=\"Starting Point\")\n",
    "\n",
    "plt.xlabel(\"X Coordinate\")\n",
    "plt.ylabel(\"Y Coordinate\")\n",
    "plt.title(\"Data Points Distribution\")\n",
    "\n",
    "plt.xlim(0)\n",
    "plt.ylim(0)\n",
    "plt.axis('equal')\n",
    "\n",
    "plt.grid(True)\n",
    "plt.legend(bbox_to_anchor=(1.05, 0), loc='lower left', borderaxespad=0.)\n",
    "plt.show()"
   ]
  }
 ],
 "metadata": {
  "kernelspec": {
   "display_name": "Python 3",
   "language": "python",
   "name": "python3"
  },
  "language_info": {
   "codemirror_mode": {
    "name": "ipython",
    "version": 3
   },
   "file_extension": ".py",
   "mimetype": "text/x-python",
   "name": "python",
   "nbconvert_exporter": "python",
   "pygments_lexer": "ipython3",
   "version": "3.11.8"
  }
 },
 "nbformat": 4,
 "nbformat_minor": 2
}
