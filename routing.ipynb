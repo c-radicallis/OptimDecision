{
 "cells": [
  {
   "cell_type": "markdown",
   "metadata": {},
   "source": [
    "# Capacitated Vehicle Routing Problem\n",
    "\n",
    "<img src=\"http://neo.lcc.uma.es/dynamic/images/vrp.png\" width=\"400\" />\n",
    "\n",
    "- $n$ is the number of clientes\n",
    "- $N$ is set of clients, with $N=\\{1,2,...,n\\}$\n",
    "- $V$ is set of vetices (or nodes), with $V=\\{0\\}\\cup N$\n",
    "- $A$ is set of arcs, with $A=\\{(i,j)\\in V^2 : i\\neq j\\}$\n",
    "- $c_{ij}$ is cost of travel over arc $(i,j)\\in A$\n",
    "- $Q$ is the vehicle capacity\n",
    "- $q_i$ is the amount that has to be delivered to customer $i\\in N$\n",
    "\n",
    "Then, the formulation is the following\n",
    "$$\\begin{align}\n",
    "\\min \\quad & \\sum_{i,j\\in A} c_{ij} x_{ij} \\\\\n",
    "\\text{s.t.} \\quad & \\sum_{j\\in V , j\\neq i} x_{ij} = 1  && i \\in N \\\\\n",
    "& \\sum_{i\\in V , i\\neq j} x_{ij} = 1 && j \\in N \\\\\n",
    "& \\text{if} \\ x_{ij}=1 \\ \\Rightarrow \\ u_i + q_j = u_j && i,j \\in A : j\\neq 0, i\\neq 0 \\\\\n",
    "& q_i \\leq u_i \\leq Q && i \\in N \\\\\n",
    "& x_{ij} \\in \\{0,1\\} && i,j \\in A\n",
    "\\end{align}$$"
   ]
  },
  {
   "cell_type": "code",
   "execution_count": 156,
   "metadata": {},
   "outputs": [],
   "source": [
    "import pandas as pd\n",
    "import numpy as np\n",
    "import matplotlib.pyplot as plt\n",
    "from docplex.mp.model import Model"
   ]
  },
  {
   "cell_type": "code",
   "execution_count": 157,
   "metadata": {},
   "outputs": [
    {
     "data": {
      "text/html": [
       "<div>\n",
       "<style scoped>\n",
       "    .dataframe tbody tr th:only-of-type {\n",
       "        vertical-align: middle;\n",
       "    }\n",
       "\n",
       "    .dataframe tbody tr th {\n",
       "        vertical-align: top;\n",
       "    }\n",
       "\n",
       "    .dataframe thead th {\n",
       "        text-align: right;\n",
       "    }\n",
       "</style>\n",
       "<table border=\"1\" class=\"dataframe\">\n",
       "  <thead>\n",
       "    <tr style=\"text-align: right;\">\n",
       "      <th></th>\n",
       "      <th>CUST NO.</th>\n",
       "      <th>XCOORD.</th>\n",
       "      <th>YCOORD.</th>\n",
       "      <th>DEMAND</th>\n",
       "      <th>READY TIME</th>\n",
       "      <th>DUE DATE</th>\n",
       "      <th>SERVICE TIME</th>\n",
       "    </tr>\n",
       "  </thead>\n",
       "  <tbody>\n",
       "    <tr>\n",
       "      <th>0</th>\n",
       "      <td>1</td>\n",
       "      <td>35.0</td>\n",
       "      <td>35.0</td>\n",
       "      <td>0.0</td>\n",
       "      <td>0.0</td>\n",
       "      <td>230.0</td>\n",
       "      <td>0.0</td>\n",
       "    </tr>\n",
       "    <tr>\n",
       "      <th>1</th>\n",
       "      <td>2</td>\n",
       "      <td>41.0</td>\n",
       "      <td>49.0</td>\n",
       "      <td>10.0</td>\n",
       "      <td>161.0</td>\n",
       "      <td>171.0</td>\n",
       "      <td>10.0</td>\n",
       "    </tr>\n",
       "    <tr>\n",
       "      <th>2</th>\n",
       "      <td>3</td>\n",
       "      <td>35.0</td>\n",
       "      <td>17.0</td>\n",
       "      <td>7.0</td>\n",
       "      <td>50.0</td>\n",
       "      <td>60.0</td>\n",
       "      <td>10.0</td>\n",
       "    </tr>\n",
       "    <tr>\n",
       "      <th>3</th>\n",
       "      <td>4</td>\n",
       "      <td>55.0</td>\n",
       "      <td>45.0</td>\n",
       "      <td>13.0</td>\n",
       "      <td>116.0</td>\n",
       "      <td>126.0</td>\n",
       "      <td>10.0</td>\n",
       "    </tr>\n",
       "    <tr>\n",
       "      <th>4</th>\n",
       "      <td>5</td>\n",
       "      <td>55.0</td>\n",
       "      <td>20.0</td>\n",
       "      <td>19.0</td>\n",
       "      <td>149.0</td>\n",
       "      <td>159.0</td>\n",
       "      <td>10.0</td>\n",
       "    </tr>\n",
       "  </tbody>\n",
       "</table>\n",
       "</div>"
      ],
      "text/plain": [
       "   CUST NO.  XCOORD.  YCOORD.  DEMAND  READY TIME  DUE DATE  SERVICE TIME\n",
       "0         1     35.0     35.0     0.0         0.0     230.0           0.0\n",
       "1         2     41.0     49.0    10.0       161.0     171.0          10.0\n",
       "2         3     35.0     17.0     7.0        50.0      60.0          10.0\n",
       "3         4     55.0     45.0    13.0       116.0     126.0          10.0\n",
       "4         5     55.0     20.0    19.0       149.0     159.0          10.0"
      ]
     },
     "execution_count": 157,
     "metadata": {},
     "output_type": "execute_result"
    }
   ],
   "source": [
    "file_path = 'dataset.txt'\n",
    "column_names = [\"CUST NO.\", \"XCOORD.\", \"YCOORD.\", \"DEMAND\", \"READY TIME\", \"DUE DATE\", \"SERVICE TIME\"]\n",
    "\n",
    "df = pd.read_csv(file_path, delim_whitespace=True, names=column_names)\n",
    "df = df.head(30)\n",
    "\n",
    "df.head()"
   ]
  },
  {
   "cell_type": "code",
   "execution_count": 158,
   "metadata": {},
   "outputs": [],
   "source": [
    "xc = df['XCOORD.'].values\n",
    "yc = df['YCOORD.'].values"
   ]
  },
  {
   "cell_type": "code",
   "execution_count": 159,
   "metadata": {},
   "outputs": [
    {
     "data": {
      "image/png": "[encoded data removed]",
      "text/plain": [
       "<Figure size 640x480 with 1 Axes>"
      ]
     },
     "metadata": {},
     "output_type": "display_data"
    }
   ],
   "source": [
    "plt.plot(df[\"XCOORD.\"], df[\"YCOORD.\"], \".\", color=\"blue\", markersize=10, label=\"Data Points\")\n",
    "plt.plot(df[\"XCOORD.\"][0], df[\"YCOORD.\"][0], \"o\", color=\"red\", markersize=10, label=\"Starting Point\")\n",
    "\n",
    "plt.xlabel(\"X Coordinate\")\n",
    "plt.ylabel(\"Y Coordinate\")\n",
    "plt.title(\"Data Points Distribution\")\n",
    "\n",
    "plt.xlim(0)\n",
    "plt.ylim(0)\n",
    "plt.axis('equal')\n",
    "\n",
    "plt.grid(True)\n",
    "plt.legend(bbox_to_anchor=(1.05, 0), loc='lower left', borderaxespad=0.)\n",
    "plt.show()"
   ]
  },
  {
   "cell_type": "code",
   "execution_count": 160,
   "metadata": {},
   "outputs": [],
   "source": [
    "n = len(df)-1\n",
    "N = [i for i in range(1, n+1)]\n",
    "V = [0] + N\n",
    "A = [(i, j) for i in V for j in V if i != j]\n",
    "c = {(i, j): np.hypot(xc[i]-xc[j], yc[i]-yc[j]) for i, j in A}\n",
    "Q = 200\n",
    "q = df['DEMAND'].values"
   ]
  },
  {
   "cell_type": "code",
   "execution_count": 161,
   "metadata": {},
   "outputs": [],
   "source": [
    "mdl = Model('CVRP')"
   ]
  },
  {
   "cell_type": "code",
   "execution_count": 162,
   "metadata": {},
   "outputs": [],
   "source": [
    "x = mdl.binary_var_dict(A, name='x')\n",
    "u = mdl.continuous_var_dict(N, ub=Q, name='u')"
   ]
  },
  {
   "cell_type": "code",
   "execution_count": 163,
   "metadata": {},
   "outputs": [
    {
     "name": "stdout",
     "output_type": "stream",
     "text": [
      "Version identifier: 22.1.1.0 | 2023-06-15 | d64d5bd77\n",
      "CPXPARAM_Read_DataCheck                          1\n",
      "CPXPARAM_TimeLimit                               15\n",
      "Found incumbent of value 1350.835706 after 0.00 sec. (0.08 ticks)\n",
      "Tried aggregator 2 times.\n",
      "MIP Presolve eliminated 29 rows and 0 columns.\n",
      "MIP Presolve modified 406 coefficients.\n",
      "Aggregator did 406 substitutions.\n",
      "Reduced MIP has 464 rows, 1305 columns, and 2900 nonzeros.\n",
      "Reduced MIP has 870 binaries, 0 generals, 0 SOSs, and 812 indicators.\n",
      "Presolve time = 0.02 sec. (3.91 ticks)\n",
      "Probing time = 0.01 sec. (7.93 ticks)\n",
      "Tried aggregator 1 time.\n",
      "Detecting symmetries...\n",
      "Reduced MIP has 464 rows, 1305 columns, and 2900 nonzeros.\n",
      "Reduced MIP has 870 binaries, 0 generals, 0 SOSs, and 812 indicators.\n",
      "Presolve time = 0.00 sec. (2.10 ticks)\n",
      "Probing time = 0.00 sec. (2.42 ticks)\n",
      "Clique table members: 464.\n",
      "MIP emphasis: balance optimality and feasibility.\n",
      "MIP search method: dynamic search.\n",
      "Parallel mode: deterministic, using up to 8 threads.\n",
      "Root relaxation solution time = 0.00 sec. (1.02 ticks)\n",
      "\n",
      "        Nodes                                         Cuts/\n",
      "   Node  Left     Objective  IInf  Best Integer    Best Bound    ItCnt     Gap\n",
      "\n",
      "*     0+    0                         1350.8357        0.0000           100.00%\n",
      "      0     0      295.0451    29     1350.8357      295.0451       30   78.16%\n",
      "      0     0      313.7834    47     1350.8357      Cuts: 55       71   76.77%\n",
      "      0     0      317.5357    49     1350.8357      Cuts: 22       99   76.49%\n",
      "      0     0      317.6002    41     1350.8357      Cuts: 12      108   76.49%\n",
      "      0     0      317.6002    42     1350.8357  Impl Bds: 15      111   76.49%\n",
      "      0     0      317.6002    53     1350.8357  Impl Bds: 11      114   76.49%\n",
      "Detecting symmetries...\n",
      "*     0+    0                          391.5690      317.6002            18.89%\n",
      "Detecting symmetries...\n",
      "      0     2      317.6002    37      391.5690      317.8019      114   18.84%\n",
      "Elapsed time = 0.16 sec. (59.60 ticks, tree = 0.02 MB, solutions = 2)\n",
      "*  1670+ 1223                          388.8694      318.6551            18.06%\n",
      "*  1891  1391      integral     0      359.8287      319.2131    19062   11.29%\n",
      "\n",
      "Performing restart 1\n",
      "\n",
      "Repeating presolve.\n",
      "Tried aggregator 1 time.\n",
      "MIP Presolve eliminated 30 rows and 90 columns.\n",
      "Reduced MIP has 434 rows, 1215 columns, and 2690 nonzeros.\n",
      "Reduced MIP has 810 binaries, 0 generals, 0 SOSs, and 752 indicators.\n",
      "Presolve time = 0.00 sec. (1.60 ticks)\n",
      "Tried aggregator 1 time.\n",
      "Reduced MIP has 434 rows, 1215 columns, and 2690 nonzeros.\n",
      "Reduced MIP has 810 binaries, 0 generals, 0 SOSs, and 752 indicators.\n",
      "Presolve time = 0.01 sec. (2.05 ticks)\n",
      "Represolve time = 0.03 sec. (13.31 ticks)\n",
      "   3526     0      317.8019    58      359.8287      Cuts: 19    39942   10.68%\n",
      "   3526     0      317.8019    33      359.8287       Cuts: 7    39951   10.68%\n",
      "   3526     0      317.8019    44      359.8287      Cuts: 81    39968   10.68%\n",
      "   3526     0      317.8019    31      359.8287   Impl Bds: 7    39972   10.68%\n",
      "   3526     0      317.8019    34      359.8287     Cuts: 171    39981   10.68%\n",
      "   3526     0      317.8019    58      359.8287  Impl Bds: 20    39998   10.68%\n",
      "   3526     0      317.8019    25      359.8287      Cuts: 20    40003   10.68%\n",
      "   3526     0      317.8019    33      359.8287      Cuts: 92    40039   10.68%\n",
      "   3526     2      317.8019    23      359.8287      321.3976    40039   10.68%\n",
      "   5245  1049      339.7950    13      359.8287      321.3976    52646   10.68%\n",
      "   8075  2681      331.8129    15      359.8287      322.5204    77921   10.37%\n",
      "*  8648+ 3006                          356.5579      322.8965             9.44%\n",
      "  10966  4364      324.1787    11      356.5579      323.7688   105478    9.20%\n",
      "* 11043+ 4374                          353.8310      323.7800             8.49%\n",
      "* 11459+ 4529                          348.9186      323.9331             7.16%\n",
      "  13377  5061      325.2379    34      348.9186      324.6446   131301    6.96%\n",
      "  16168  6628    infeasible            348.9186      325.2521   164007    6.78%\n",
      "  19104  7520      335.3536    16      348.9186      325.6906   182492    6.66%\n",
      "  21667  9172      336.7309    30      348.9186      326.2362   218382    6.50%\n",
      "  32937 13899      338.8753    22      348.9186      327.4521   325895    6.15%\n",
      "Elapsed time = 6.75 sec. (3083.20 ticks, tree = 9.20 MB, solutions = 7)\n",
      "* 37107+16194                          345.9897      327.8858             5.23%\n",
      "  41026 18101      342.3972    13      345.9897      327.9826   418383    5.20%\n",
      "\n",
      "Performing restart 2\n",
      "\n",
      "Repeating presolve.\n",
      "Tried aggregator 1 time.\n",
      "MIP Presolve eliminated 90 rows and 274 columns.\n",
      "Reduced MIP has 344 rows, 941 columns, and 2056 nonzeros.\n",
      "Reduced MIP has 626 binaries, 0 generals, 0 SOSs, and 572 indicators.\n",
      "Presolve time = 0.00 sec. (1.55 ticks)\n",
      "Tried aggregator 1 time.\n",
      "Reduced MIP has 344 rows, 941 columns, and 2056 nonzeros.\n",
      "Reduced MIP has 626 binaries, 0 generals, 0 SOSs, and 572 indicators.\n",
      "Presolve time = 0.00 sec. (1.52 ticks)\n",
      "Represolve time = 0.05 sec. (17.51 ticks)\n",
      "  44046     0      317.8019    58      345.9897      Cuts: 19   465348    5.10%\n",
      "  44046     0      317.8019    24      345.9897   Impl Bds: 1   465351    5.10%\n",
      "  44046     0      317.8019    24      345.9897  Impl Bds: 93   465357    5.10%\n",
      "  44046     0      317.8019    58      345.9897     Cuts: 127   465403    5.10%\n",
      "  44046     0      317.8019    51      345.9897       Cuts: 3   465411    5.10%\n",
      "  44046     0      317.8019    33      345.9897      Cuts: 39   465429    5.10%\n",
      "  44046     0      317.8019    38      345.9897      Cuts: 90   465473    5.10%\n",
      "  44046     0      317.8019    42      345.9897      Cuts: 20   465484    5.10%\n",
      "  44046     0      317.8019    15      345.9897  Impl Bds: 15   465497    5.10%\n",
      "  44046     0      317.8019    31      345.9897      Cuts: 41   465514    5.10%\n",
      "\n",
      "Repeating presolve.\n",
      "Tried aggregator 1 time.\n",
      "MIP Presolve eliminated 11 rows and 37 columns.\n",
      "Reduced MIP has 333 rows, 904 columns, and 1975 nonzeros.\n",
      "Reduced MIP has 600 binaries, 0 generals, 0 SOSs, and 550 indicators.\n",
      "Presolve time = 0.00 sec. (1.02 ticks)\n",
      "Tried aggregator 1 time.\n",
      "Reduced MIP has 333 rows, 904 columns, and 1975 nonzeros.\n",
      "Reduced MIP has 600 binaries, 0 generals, 0 SOSs, and 550 indicators.\n",
      "Presolve time = 0.00 sec. (1.46 ticks)\n",
      "Represolve time = 0.03 sec. (14.86 ticks)\n",
      "  44046     0      318.8666    55      345.9897     Cuts: 129   465654    5.10%\n",
      "  44046     0      319.4466    55      345.9897      Cuts: 78   465694    5.10%\n",
      "  44046     0      319.7604    64      345.9897      Cuts: 11   465712    5.10%\n",
      "  44046     0      319.9419    62      345.9897     Cuts: 102   465774    5.10%\n",
      "  45525   771        cutoff            345.9897      328.3338   483520    5.10%\n",
      "  53903  4911      327.3316    41      345.9897      328.3338   588141    5.10%\n",
      "\n",
      "Clique cuts applied:  15\n",
      "Cover cuts applied:  6\n",
      "Implied bound cuts applied:  238\n",
      "Flow cuts applied:  2\n",
      "Mixed integer rounding cuts applied:  8\n",
      "Zero-half cuts applied:  2\n",
      "Gomory fractional cuts applied:  13\n",
      "\n",
      "Root node processing (before b&c):\n",
      "  Real time             =    0.17 sec. (59.33 ticks)\n",
      "Parallel b&c, 8 threads:\n",
      "  Real time             =   14.86 sec. (6351.76 ticks)\n",
      "  Sync time (average)   =    2.37 sec.\n",
      "  Wait time (average)   =    0.05 sec.\n",
      "                          ------------\n",
      "Total (root+branch&cut) =   15.03 sec. (6411.10 ticks)\n"
     ]
    }
   ],
   "source": [
    "mdl.minimize(mdl.sum(c[i, j]*x[i, j] for i, j in A))\n",
    "mdl.add_constraints(mdl.sum(x[i, j] for j in V if j != i) == 1 for i in N)\n",
    "mdl.add_constraints(mdl.sum(x[i, j] for i in V if i != j) == 1 for j in N)\n",
    "mdl.add_indicator_constraints(mdl.indicator_constraint(x[i, j], u[i]+q[j] == u[j]) for i, j in A if i != 0 and j != 0)\n",
    "mdl.add_constraints(u[i] >= q[i] for i in N)\n",
    "mdl.parameters.timelimit = 15\n",
    "solution = mdl.solve(log_output=True)"
   ]
  },
  {
   "cell_type": "code",
   "execution_count": 164,
   "metadata": {},
   "outputs": [
    {
     "name": "stdout",
     "output_type": "stream",
     "text": [
      "solution for: CVRP\n",
      "objective: 345.99\n",
      "status: FEASIBLE_SOLUTION(1)\n",
      "x_0_1=1\n",
      "x_0_6=1\n",
      "x_1_20=1\n",
      "x_2_15=1\n",
      "x_3_29=1\n",
      "x_4_23=1\n",
      "x_5_18=1\n",
      "x_6_13=1\n",
      "x_7_19=1\n",
      "x_8_7=1\n",
      "x_9_3=1\n",
      "x_10_27=1\n",
      "x_11_10=1\n",
      "x_12_28=1\n",
      "x_13_2=1\n",
      "x_14_16=1\n",
      "x_15_14=1\n",
      "x_16_17=1\n",
      "x_17_5=1\n",
      "x_18_8=1\n",
      "x_19_11=1\n",
      "x_20_9=1\n",
      "x_21_26=1\n",
      "x_22_21=1\n",
      "x_23_22=1\n",
      "x_24_25=1\n",
      "x_25_4=1\n",
      "x_26_12=1\n",
      "x_27_0=1\n",
      "x_28_0=1\n",
      "x_29_24=1\n",
      "u_1=10.000\n",
      "u_2=33.000\n",
      "u_3=48.000\n",
      "u_4=85.000\n",
      "u_5=108.000\n",
      "u_6=3.000\n",
      "u_7=134.000\n",
      "u_8=129.000\n",
      "u_9=35.000\n",
      "u_10=179.000\n",
      "u_11=163.000\n",
      "u_12=179.000\n",
      "u_13=26.000\n",
      "u_14=61.000\n",
      "u_15=41.000\n",
      "u_16=80.000\n",
      "u_17=82.000\n",
      "u_18=120.000\n",
      "u_19=151.000\n",
      "u_20=19.000\n",
      "u_21=143.000\n",
      "u_22=132.000\n",
      "u_23=114.000\n",
      "u_24=60.000\n",
      "u_25=66.000\n",
      "u_26=160.000\n",
      "u_27=195.000\n",
      "u_28=195.000\n",
      "u_29=57.000\n",
      "\n"
     ]
    }
   ],
   "source": [
    "print(solution)"
   ]
  },
  {
   "cell_type": "code",
   "execution_count": 165,
   "metadata": {},
   "outputs": [
    {
     "data": {
      "text/plain": [
       "<JobSolveStatus.FEASIBLE_SOLUTION: 1>"
      ]
     },
     "execution_count": 165,
     "metadata": {},
     "output_type": "execute_result"
    }
   ],
   "source": [
    "solution.solve_status"
   ]
  },
  {
   "cell_type": "code",
   "execution_count": 166,
   "metadata": {},
   "outputs": [],
   "source": [
    "active_arcs = [a for a in A if x[a].solution_value > 0.9]"
   ]
  },
  {
   "cell_type": "code",
   "execution_count": 167,
   "metadata": {},
   "outputs": [
    {
     "data": {
      "image/png": "[encoded data removed]",
      "text/plain": [
       "<Figure size 640x480 with 1 Axes>"
      ]
     },
     "metadata": {},
     "output_type": "display_data"
    }
   ],
   "source": [
    "for i, j in active_arcs:\n",
    "    plt.plot([xc[i], xc[j]], [yc[i], yc[j]], c='g', alpha=0.3)\n",
    "\n",
    "plt.plot(df[\"XCOORD.\"], df[\"YCOORD.\"], \".\", color=\"blue\", markersize=10, label=\"Data Points\")\n",
    "plt.plot(df[\"XCOORD.\"][0], df[\"YCOORD.\"][0], \"o\", color=\"red\", markersize=10, label=\"Starting Point\")\n",
    "\n",
    "plt.xlabel(\"X Coordinate\")\n",
    "plt.ylabel(\"Y Coordinate\")\n",
    "plt.title(\"Data Points Distribution\")\n",
    "\n",
    "plt.xlim(0)\n",
    "plt.ylim(0)\n",
    "plt.axis('equal')\n",
    "\n",
    "plt.grid(True)\n",
    "plt.legend(bbox_to_anchor=(1.05, 0), loc='lower left', borderaxespad=0.)\n",
    "plt.show()"
   ]
  }
 ],
 "metadata": {
  "kernelspec": {
   "display_name": "Python 3",
   "language": "python",
   "name": "python3"
  },
  "language_info": {
   "codemirror_mode": {
    "name": "ipython",
    "version": 3
   },
   "file_extension": ".py",
   "mimetype": "text/x-python",
   "name": "python",
   "nbconvert_exporter": "python",
   "pygments_lexer": "ipython3",
   "version": "3.11.8"
  }
 },
 "nbformat": 4,
 "nbformat_minor": 2
}
