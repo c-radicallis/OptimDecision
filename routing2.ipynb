{
 "cells": [
  {
   "cell_type": "code",
   "execution_count": 70,
   "metadata": {},
   "outputs": [],
   "source": [
    "import pandas as pd\n",
    "import numpy as np\n",
    "import matplotlib.pyplot as plt\n",
    "from docplex.mp.model import Model\n",
    "import math"
   ]
  },
  {
   "cell_type": "code",
   "execution_count": null,
   "metadata": {},
   "outputs": [],
   "source": [
    "dataset_path = 'dataset.txt'\n",
    "images_path = r\"D:\\OneDrive - Universidade de Lisboa\\Universidade\\Mestrado\\8oSemestre\\Optimização e Decisão\\project\\OptimDecision\\imagens\"\n"
   ]
  },
  {
   "cell_type": "code",
   "execution_count": 71,
   "metadata": {},
   "outputs": [
    {
     "data": {
      "text/html": [
       "<div>\n",
       "<style scoped>\n",
       "    .dataframe tbody tr th:only-of-type {\n",
       "        vertical-align: middle;\n",
       "    }\n",
       "\n",
       "    .dataframe tbody tr th {\n",
       "        vertical-align: top;\n",
       "    }\n",
       "\n",
       "    .dataframe thead th {\n",
       "        text-align: right;\n",
       "    }\n",
       "</style>\n",
       "<table border=\"1\" class=\"dataframe\">\n",
       "  <thead>\n",
       "    <tr style=\"text-align: right;\">\n",
       "      <th></th>\n",
       "      <th>CUST NO.</th>\n",
       "      <th>XCOORD.</th>\n",
       "      <th>YCOORD.</th>\n",
       "      <th>DEMAND</th>\n",
       "      <th>READY TIME</th>\n",
       "      <th>DUE DATE</th>\n",
       "      <th>SERVICE TIME</th>\n",
       "    </tr>\n",
       "  </thead>\n",
       "  <tbody>\n",
       "    <tr>\n",
       "      <th>0</th>\n",
       "      <td>1</td>\n",
       "      <td>35.0</td>\n",
       "      <td>35.0</td>\n",
       "      <td>0.0</td>\n",
       "      <td>0.0</td>\n",
       "      <td>230.0</td>\n",
       "      <td>0.0</td>\n",
       "    </tr>\n",
       "    <tr>\n",
       "      <th>1</th>\n",
       "      <td>2</td>\n",
       "      <td>41.0</td>\n",
       "      <td>49.0</td>\n",
       "      <td>10.0</td>\n",
       "      <td>161.0</td>\n",
       "      <td>171.0</td>\n",
       "      <td>10.0</td>\n",
       "    </tr>\n",
       "    <tr>\n",
       "      <th>2</th>\n",
       "      <td>3</td>\n",
       "      <td>35.0</td>\n",
       "      <td>17.0</td>\n",
       "      <td>7.0</td>\n",
       "      <td>50.0</td>\n",
       "      <td>60.0</td>\n",
       "      <td>10.0</td>\n",
       "    </tr>\n",
       "    <tr>\n",
       "      <th>3</th>\n",
       "      <td>4</td>\n",
       "      <td>55.0</td>\n",
       "      <td>45.0</td>\n",
       "      <td>13.0</td>\n",
       "      <td>116.0</td>\n",
       "      <td>126.0</td>\n",
       "      <td>10.0</td>\n",
       "    </tr>\n",
       "    <tr>\n",
       "      <th>4</th>\n",
       "      <td>5</td>\n",
       "      <td>55.0</td>\n",
       "      <td>20.0</td>\n",
       "      <td>19.0</td>\n",
       "      <td>149.0</td>\n",
       "      <td>159.0</td>\n",
       "      <td>10.0</td>\n",
       "    </tr>\n",
       "  </tbody>\n",
       "</table>\n",
       "</div>"
      ],
      "text/plain": [
       "   CUST NO.  XCOORD.  YCOORD.  DEMAND  READY TIME  DUE DATE  SERVICE TIME\n",
       "0         1     35.0     35.0     0.0         0.0     230.0           0.0\n",
       "1         2     41.0     49.0    10.0       161.0     171.0          10.0\n",
       "2         3     35.0     17.0     7.0        50.0      60.0          10.0\n",
       "3         4     55.0     45.0    13.0       116.0     126.0          10.0\n",
       "4         5     55.0     20.0    19.0       149.0     159.0          10.0"
      ]
     },
     "execution_count": 71,
     "metadata": {},
     "output_type": "execute_result"
    }
   ],
   "source": [
    "column_names = [\"CUST NO.\", \"XCOORD.\", \"YCOORD.\", \"DEMAND\", \"READY TIME\", \"DUE DATE\", \"SERVICE TIME\"]\n",
    "\n",
    "df = pd.read_csv(dataset_path, delim_whitespace=True, names=column_names)\n",
    "\n",
    "number_of_customers=30\n",
    "df = df.head(number_of_customers+1)\n",
    "\n",
    "df.head()"
   ]
  },
  {
   "cell_type": "code",
   "execution_count": 72,
   "metadata": {},
   "outputs": [],
   "source": [
    "xc = df['XCOORD.'].values\n",
    "yc = df['YCOORD.'].values"
   ]
  },
  {
   "cell_type": "code",
   "execution_count": 73,
   "metadata": {},
   "outputs": [
    {
     "data": {
      "image/png": "[encoded data removed]",
      "text/plain": [
       "<Figure size 640x480 with 1 Axes>"
      ]
     },
     "metadata": {},
     "output_type": "display_data"
    }
   ],
   "source": [
    "plt.plot(df[\"XCOORD.\"], df[\"YCOORD.\"], \".\", color=\"blue\", markersize=10)\n",
    "plt.plot(df[\"XCOORD.\"][0], df[\"YCOORD.\"][0], \"o\", color=\"red\", markersize=10)\n",
    "\n",
    "plt.xlabel(\"X Coordinate\")\n",
    "plt.ylabel(\"Y Coordinate\")\n",
    "#plt.title(f\"Geographical Distribution of {number_of_customers} customers\")\n",
    "\n",
    "plt.axis([0,75,0,75])\n",
    "\n",
    "plt.grid(True)\n",
    "plt.plot()\n",
    "\n",
    "plt.savefig(f\"vrp_{number_of_customers}c.png\")"
   ]
  },
  {
   "cell_type": "code",
   "execution_count": 74,
   "metadata": {},
   "outputs": [],
   "source": [
    "n = len(df)-1\n",
    "N = [i for i in range(1, n+1)]\n",
    "V = [0] + N\n",
    "A = [(i, j) for i in V for j in V if i != j]\n",
    "c = {(i, j): np.hypot(xc[i]-xc[j], yc[i]-yc[j]) for i, j in A}\n",
    "st = df['SERVICE TIME'].values\n",
    "t = {(i,j): c[(i,j)] + st[j] for i, j in A}\n",
    "Q = 200\n",
    "q = df['DEMAND'].values\n",
    "timelimit = 1"
   ]
  },
  {
   "cell_type": "code",
   "execution_count": 75,
   "metadata": {},
   "outputs": [],
   "source": [
    "mdl = Model('CVRP')"
   ]
  },
  {
   "cell_type": "code",
   "execution_count": 76,
   "metadata": {},
   "outputs": [],
   "source": [
    "x = mdl.binary_var_dict(A, name='x')\n",
    "u = mdl.continuous_var_dict(N, ub=Q, name='u')"
   ]
  },
  {
   "cell_type": "code",
   "execution_count": 77,
   "metadata": {},
   "outputs": [
    {
     "name": "stdout",
     "output_type": "stream",
     "text": [
      "Version identifier: 22.1.1.0 | 2023-06-15 | d64d5bd77\n",
      "CPXPARAM_Read_DataCheck                          1\n",
      "CPXPARAM_TimeLimit                               1\n",
      "Found incumbent of value 1701.825901 after 0.00 sec. (0.09 ticks)\n",
      "Tried aggregator 2 times.\n",
      "MIP Presolve eliminated 30 rows and 0 columns.\n",
      "MIP Presolve modified 435 coefficients.\n",
      "Aggregator did 435 substitutions.\n",
      "Reduced MIP has 495 rows, 1395 columns, and 3105 nonzeros.\n",
      "Reduced MIP has 930 binaries, 0 generals, 0 SOSs, and 870 indicators.\n",
      "Presolve time = 0.02 sec. (4.26 ticks)\n",
      "Probing time = 0.06 sec. (8.78 ticks)\n",
      "Tried aggregator 1 time.\n",
      "Detecting symmetries...\n",
      "Reduced MIP has 495 rows, 1395 columns, and 3105 nonzeros.\n",
      "Reduced MIP has 930 binaries, 0 generals, 0 SOSs, and 870 indicators.\n",
      "Presolve time = 0.02 sec. (2.25 ticks)\n",
      "Probing time = 0.00 sec. (2.45 ticks)\n",
      "Clique table members: 495.\n",
      "MIP emphasis: balance optimality and feasibility.\n",
      "MIP search method: dynamic search.\n",
      "Parallel mode: deterministic, using up to 8 threads.\n"
     ]
    },
    {
     "name": "stdout",
     "output_type": "stream",
     "text": [
      "Root relaxation solution time = 0.00 sec. (1.31 ticks)\n",
      "\n",
      "        Nodes                                         Cuts/\n",
      "   Node  Left     Objective  IInf  Best Integer    Best Bound    ItCnt     Gap\n",
      "\n",
      "*     0+    0                         1701.8259        0.0000           100.00%\n",
      "      0     0      600.0408    30     1701.8259      600.0408       54   64.74%\n",
      "      0     0      615.0431    53     1701.8259      Cuts: 82       98   63.86%\n",
      "      0     0      618.7954    50     1701.8259      Cuts: 34      138   63.64%\n",
      "      0     0      619.0420    42     1701.8259      Cuts: 14      150   63.62%\n",
      "      0     0      619.0420    62     1701.8259  Impl Bds: 15      164   63.62%\n",
      "*     0+    0                          831.7100      619.0420            25.57%\n",
      "*     0+    0                          793.6944      619.0420            22.00%\n",
      "*     0+    0                          703.3226      619.0420            11.98%\n",
      "Detecting symmetries...\n",
      "      0     2      619.0420    44      703.3226      619.4259      164   11.93%\n",
      "Elapsed time = 0.41 sec. (65.35 ticks, tree = 0.02 MB, solutions = 4)\n",
      "\n",
      "Clique cuts applied:  12\n",
      "Implied bound cuts applied:  196\n",
      "Mixed integer rounding cuts applied:  4\n",
      "Zero-half cuts applied:  1\n",
      "Gomory fractional cuts applied:  3\n",
      "\n",
      "Root node processing (before b&c):\n",
      "  Real time             =    0.39 sec. (65.00 ticks)\n",
      "Parallel b&c, 8 threads:\n",
      "  Real time             =    0.64 sec. (201.06 ticks)\n",
      "  Sync time (average)   =    0.10 sec.\n",
      "  Wait time (average)   =    0.00 sec.\n",
      "                          ------------\n",
      "Total (root+branch&cut) =    1.03 sec. (266.06 ticks)\n"
     ]
    }
   ],
   "source": [
    "mdl.minimize(mdl.sum(t[i, j]*x[i, j] for i, j in A))\n",
    "mdl.add_constraints(mdl.sum(x[i, j] for j in V if j != i) == 1 for i in N)\n",
    "mdl.add_constraints(mdl.sum(x[i, j] for i in V if i != j) == 1 for j in N)\n",
    "mdl.add_indicator_constraints(mdl.indicator_constraint(x[i, j], u[i]+q[j] == u[j]) for i, j in A if i != 0 and j != 0)\n",
    "mdl.add_constraints(u[i] >= q[i] for i in N)\n",
    "mdl.parameters.timelimit = timelimit\n",
    "solution = mdl.solve(log_output=True)"
   ]
  },
  {
   "cell_type": "code",
   "execution_count": 78,
   "metadata": {},
   "outputs": [],
   "source": [
    "#print(solution)\n",
    "#solution.solve_status"
   ]
  },
  {
   "cell_type": "code",
   "execution_count": 79,
   "metadata": {},
   "outputs": [],
   "source": [
    "active_arcs = [a for a in A if x[a].solution_value > 0.9]"
   ]
  },
  {
   "cell_type": "code",
   "execution_count": 80,
   "metadata": {},
   "outputs": [
    {
     "name": "stdout",
     "output_type": "stream",
     "text": [
      "Loop starting at (0, 4) : [(0, 4), (4, 21), (21, 22), (22, 23), (23, 25), (25, 24), (24, 29), (29, 0)]\n",
      "Loop starting at (0, 6) : [(0, 6), (6, 13), (13, 2), (2, 15), (15, 14), (14, 16), (16, 5), (5, 17), (17, 18), (18, 8), (8, 7), (7, 19), (19, 11), (11, 10), (10, 0)]\n",
      "Loop starting at (0, 27) : [(0, 27), (27, 1), (1, 30), (30, 20), (20, 9), (9, 3), (3, 12), (12, 26), (26, 28), (28, 0)]\n"
     ]
    },
    {
     "data": {
      "text/plain": [
       "[[(0, 4), (4, 21), (21, 22), (22, 23), (23, 25), (25, 24), (24, 29), (29, 0)],\n",
       " [(0, 6),\n",
       "  (6, 13),\n",
       "  (13, 2),\n",
       "  (2, 15),\n",
       "  (15, 14),\n",
       "  (14, 16),\n",
       "  (16, 5),\n",
       "  (5, 17),\n",
       "  (17, 18),\n",
       "  (18, 8),\n",
       "  (8, 7),\n",
       "  (7, 19),\n",
       "  (19, 11),\n",
       "  (11, 10),\n",
       "  (10, 0)],\n",
       " [(0, 27),\n",
       "  (27, 1),\n",
       "  (1, 30),\n",
       "  (30, 20),\n",
       "  (20, 9),\n",
       "  (9, 3),\n",
       "  (3, 12),\n",
       "  (12, 26),\n",
       "  (26, 28),\n",
       "  (28, 0)]]"
      ]
     },
     "execution_count": 80,
     "metadata": {},
     "output_type": "execute_result"
    }
   ],
   "source": [
    "def find_loops(list_of_tuples, loops2):\n",
    "    # Initialize a dictionary to store the loops\n",
    "    loops = {}\n",
    "\n",
    "    # Loop through the list of tuples\n",
    "    for item in list_of_tuples:\n",
    "        # Check if the item is a tuple\n",
    "        if isinstance(item, tuple):\n",
    "            # If the tuple starts with zero, create a new loop\n",
    "            if item[0] == 0:\n",
    "                loop = [item]\n",
    "                current_node = item[1]\n",
    "                # Traverse the list to find the rest of the loop\n",
    "                while current_node != 0:\n",
    "                    for i in list_of_tuples:\n",
    "                        if isinstance(i, tuple) and i[0] == current_node:\n",
    "                            loop.append(i)\n",
    "                            current_node = i[1]\n",
    "                            break\n",
    "                # Store the loop in the dictionary\n",
    "                loops[item] = loop\n",
    "\n",
    "    # Print the loops\n",
    "    for key, value in loops.items():\n",
    "        print(\"Loop starting at\", key, \":\", value)\n",
    "    \n",
    "    for key, value in loops.items():\n",
    "        loops2.append(value)\n",
    "\n",
    "    return loops2\n",
    "\n",
    "\n",
    "# Example list of tuples\n",
    "list_of_tuples = active_arcs\n",
    "list_of_loops_2 = []\n",
    "\n",
    "\n",
    "# Find and print the loops\n",
    "find_loops(list_of_tuples, list_of_loops_2)\n"
   ]
  },
  {
   "cell_type": "code",
   "execution_count": 81,
   "metadata": {},
   "outputs": [],
   "source": [
    "color_vector = [\n",
    "    '#b3ccff',  # light blue\n",
    "    '#ffc559',  # light orange\n",
    "    '#93e493',  # light green\n",
    "]\n",
    "\n",
    "color_vector2 = [\n",
    "    '#3075ff',  # blue\n",
    "    '#ffa500',  # orange\n",
    "    '#228B22'   # green\n",
    "]"
   ]
  },
  {
   "cell_type": "code",
   "execution_count": 82,
   "metadata": {},
   "outputs": [
    {
     "data": {
      "image/png": "[encoded data removed]",
      "text/plain": [
       "<Figure size 600x600 with 1 Axes>"
      ]
     },
     "metadata": {},
     "output_type": "display_data"
    }
   ],
   "source": [
    "plt.figure(figsize=[6, 6])\n",
    "\n",
    "plt.axis([0,75,0,75])\n",
    "\n",
    "for k in range(len(list_of_loops_2)):\n",
    "    for i,j in list_of_loops_2[k]:\n",
    "        plt.arrow(xc[i] , yc[i], xc[j]-xc[i], yc[j]-yc[i], head_width=2, head_length=2, color=color_vector[k], length_includes_head=True)\n",
    "        plt.plot(df[\"XCOORD.\"][i], df[\"YCOORD.\"][i], \".\", color=color_vector2[k], markersize=10)\n",
    "\n",
    "plt.plot(df[\"XCOORD.\"][0], df[\"YCOORD.\"][0], \"o\", color=\"red\", markersize=10, label=\"Starting Point\")\n",
    "\n",
    "plt.xlabel(\"X Coordinate\")\n",
    "plt.ylabel(\"Y Coordinate\")\n",
    "#plt.title(f\"Geographical Distribution of {number_of_customers} customers\")\n",
    "\n",
    "\n",
    "plt.grid(True)\n",
    "#plt.legend(bbox_to_anchor=(1.05, 0), loc='lower left', borderaxespad=0.)\n",
    "plt.plot()\n",
    "\n",
    "\n",
    "file_name = f'\\\\vrp_{number_of_customers}c_{timelimit}s_solution.svg'\n",
    "\n",
    "file_path = images_path + file_name\n",
    "\n",
    "plt.savefig(rf'{file_path}')\n",
    "            \n"
   ]
  }
 ],
 "metadata": {
  "kernelspec": {
   "display_name": "Python 3",
   "language": "python",
   "name": "python3"
  },
  "language_info": {
   "codemirror_mode": {
    "name": "ipython",
    "version": 3
   },
   "file_extension": ".py",
   "mimetype": "text/x-python",
   "name": "python",
   "nbconvert_exporter": "python",
   "pygments_lexer": "ipython3",
   "version": "3.11.8"
  }
 },
 "nbformat": 4,
 "nbformat_minor": 2
}
