{
 "cells": [
  {
   "cell_type": "code",
   "execution_count": 203,
   "metadata": {},
   "outputs": [],
   "source": [
    "import pandas as pd\n",
    "import numpy as np\n",
    "import matplotlib.pyplot as plt\n",
    "from docplex.mp.model import Model\n",
    "import math\n",
    "from scipy.stats import norm"
   ]
  },
  {
   "cell_type": "code",
   "execution_count": 204,
   "metadata": {},
   "outputs": [],
   "source": [
    "dataset_path = 'dataset.txt'\n",
    "images_path = r\"D:\\OneDrive - Universidade de Lisboa\\Universidade\\Mestrado\\8oSemestre\\Optimização e Decisão\\project\\OptimDecision\\imagens\"\n"
   ]
  },
  {
   "cell_type": "code",
   "execution_count": 205,
   "metadata": {},
   "outputs": [
    {
     "data": {
      "text/html": [
       "<div>\n",
       "<style scoped>\n",
       "    .dataframe tbody tr th:only-of-type {\n",
       "        vertical-align: middle;\n",
       "    }\n",
       "\n",
       "    .dataframe tbody tr th {\n",
       "        vertical-align: top;\n",
       "    }\n",
       "\n",
       "    .dataframe thead th {\n",
       "        text-align: right;\n",
       "    }\n",
       "</style>\n",
       "<table border=\"1\" class=\"dataframe\">\n",
       "  <thead>\n",
       "    <tr style=\"text-align: right;\">\n",
       "      <th></th>\n",
       "      <th>CUST NO.</th>\n",
       "      <th>XCOORD.</th>\n",
       "      <th>YCOORD.</th>\n",
       "      <th>DEMAND</th>\n",
       "      <th>READY TIME</th>\n",
       "      <th>DUE DATE</th>\n",
       "      <th>SERVICE TIME</th>\n",
       "    </tr>\n",
       "  </thead>\n",
       "  <tbody>\n",
       "    <tr>\n",
       "      <th>0</th>\n",
       "      <td>1</td>\n",
       "      <td>35.0</td>\n",
       "      <td>35.0</td>\n",
       "      <td>0.0</td>\n",
       "      <td>0.0</td>\n",
       "      <td>230.0</td>\n",
       "      <td>0.0</td>\n",
       "    </tr>\n",
       "    <tr>\n",
       "      <th>1</th>\n",
       "      <td>2</td>\n",
       "      <td>41.0</td>\n",
       "      <td>49.0</td>\n",
       "      <td>10.0</td>\n",
       "      <td>161.0</td>\n",
       "      <td>171.0</td>\n",
       "      <td>10.0</td>\n",
       "    </tr>\n",
       "    <tr>\n",
       "      <th>2</th>\n",
       "      <td>3</td>\n",
       "      <td>35.0</td>\n",
       "      <td>17.0</td>\n",
       "      <td>7.0</td>\n",
       "      <td>50.0</td>\n",
       "      <td>60.0</td>\n",
       "      <td>10.0</td>\n",
       "    </tr>\n",
       "    <tr>\n",
       "      <th>3</th>\n",
       "      <td>4</td>\n",
       "      <td>55.0</td>\n",
       "      <td>45.0</td>\n",
       "      <td>13.0</td>\n",
       "      <td>116.0</td>\n",
       "      <td>126.0</td>\n",
       "      <td>10.0</td>\n",
       "    </tr>\n",
       "    <tr>\n",
       "      <th>4</th>\n",
       "      <td>5</td>\n",
       "      <td>55.0</td>\n",
       "      <td>20.0</td>\n",
       "      <td>19.0</td>\n",
       "      <td>149.0</td>\n",
       "      <td>159.0</td>\n",
       "      <td>10.0</td>\n",
       "    </tr>\n",
       "  </tbody>\n",
       "</table>\n",
       "</div>"
      ],
      "text/plain": [
       "   CUST NO.  XCOORD.  YCOORD.  DEMAND  READY TIME  DUE DATE  SERVICE TIME\n",
       "0         1     35.0     35.0     0.0         0.0     230.0           0.0\n",
       "1         2     41.0     49.0    10.0       161.0     171.0          10.0\n",
       "2         3     35.0     17.0     7.0        50.0      60.0          10.0\n",
       "3         4     55.0     45.0    13.0       116.0     126.0          10.0\n",
       "4         5     55.0     20.0    19.0       149.0     159.0          10.0"
      ]
     },
     "execution_count": 205,
     "metadata": {},
     "output_type": "execute_result"
    }
   ],
   "source": [
    "column_names = [\"CUST NO.\", \"XCOORD.\", \"YCOORD.\", \"DEMAND\", \"READY TIME\", \"DUE DATE\", \"SERVICE TIME\"]\n",
    "\n",
    "df = pd.read_csv(dataset_path, delim_whitespace=True, names=column_names)\n",
    "\n",
    "number_of_customers = 30\n",
    "df = df.head(number_of_customers+1)\n",
    "\n",
    "df.head()"
   ]
  },
  {
   "cell_type": "code",
   "execution_count": 206,
   "metadata": {},
   "outputs": [],
   "source": [
    "xc = df['XCOORD.'].values\n",
    "yc = df['YCOORD.'].values"
   ]
  },
  {
   "cell_type": "code",
   "execution_count": 207,
   "metadata": {},
   "outputs": [
    {
     "data": {
      "image/png": "[encoded data removed]",
      "text/plain": [
       "<Figure size 640x480 with 1 Axes>"
      ]
     },
     "metadata": {},
     "output_type": "display_data"
    }
   ],
   "source": [
    "plt.plot(df[\"XCOORD.\"], df[\"YCOORD.\"], \".\", color=\"blue\", markersize=10)\n",
    "plt.plot(df[\"XCOORD.\"][0], df[\"YCOORD.\"][0], \"o\", color=\"red\", markersize=10)\n",
    "\n",
    "plt.xlabel(\"X Coordinate\")\n",
    "plt.ylabel(\"Y Coordinate\")\n",
    "#plt.title(f\"Geographical Distribution of {number_of_customers} customers\")\n",
    "\n",
    "plt.axis([0,75,0,75])\n",
    "\n",
    "plt.grid(True)\n",
    "plt.plot()\n",
    "\n",
    "\n",
    "file_name = f\"vrp_{number_of_customers}c.png\"\n",
    "\n",
    "file_path = images_path + file_name\n",
    "\n",
    "plt.savefig(file_path)"
   ]
  },
  {
   "cell_type": "code",
   "execution_count": 208,
   "metadata": {},
   "outputs": [],
   "source": [
    "n = len(df)-1\n",
    "N = [i for i in range(1, n+1)]\n",
    "V = [0] + N\n",
    "A = [(i, j) for i in V for j in V if i != j]\n",
    "st = df['SERVICE TIME'].values\n",
    "Q = 200\n",
    "q = df['DEMAND'].values\n",
    "timelimit = 60"
   ]
  },
  {
   "cell_type": "code",
   "execution_count": 209,
   "metadata": {},
   "outputs": [],
   "source": [
    "def generate_normal_vector(n):\n",
    "    # Generate n random numbers from a normal distribution with mean 0.5 and standard deviation 0.1\n",
    "    normal_numbers = np.random.normal(loc=0.5, scale=0.1, size=n)\n",
    "    \n",
    "    # Clip the generated numbers to ensure they fall within the range [0, 1]\n",
    "    normal_numbers = np.clip(normal_numbers, 0, 1)\n",
    "    \n",
    "    return normal_numbers"
   ]
  },
  {
   "cell_type": "code",
   "execution_count": 210,
   "metadata": {},
   "outputs": [],
   "source": [
    "# Generate a normal vector\n",
    "n = len(A)  # Number of elements in the vector\n",
    "normal_vector = generate_normal_vector(n)"
   ]
  },
  {
   "cell_type": "code",
   "execution_count": 211,
   "metadata": {},
   "outputs": [],
   "source": [
    "c = {(i, j): np.hypot(xc[i]-xc[j], yc[i]-yc[j]) for i, j in A}\n",
    "\n",
    "\n",
    "# Se quisermos considerar Stochastic Travel Times\n",
    "c = {key: value * (1+normal_vector[index]) for index, (key, value) in enumerate(c.items())}\n",
    "\n",
    "\n",
    "t = {(i, j): c[(i,j)] + st[j] for i, j in A}"
   ]
  },
  {
   "cell_type": "code",
   "execution_count": 212,
   "metadata": {},
   "outputs": [],
   "source": [
    "mdl = Model('CVRP')"
   ]
  },
  {
   "cell_type": "code",
   "execution_count": 213,
   "metadata": {},
   "outputs": [],
   "source": [
    "x = mdl.binary_var_dict(A, name='x')\n",
    "u = mdl.continuous_var_dict(N, ub=Q, name='u')"
   ]
  },
  {
   "cell_type": "code",
   "execution_count": 214,
   "metadata": {},
   "outputs": [
    {
     "name": "stdout",
     "output_type": "stream",
     "text": [
      "Version identifier: 22.1.1.0 | 2023-06-15 | d64d5bd77\n",
      "CPXPARAM_Read_DataCheck                          1\n",
      "CPXPARAM_TimeLimit                               60\n",
      "Found incumbent of value 2405.339835 after 0.00 sec. (0.09 ticks)\n",
      "Tried aggregator 2 times.\n",
      "MIP Presolve eliminated 30 rows and 0 columns.\n",
      "MIP Presolve modified 435 coefficients.\n",
      "Aggregator did 435 substitutions.\n",
      "Reduced MIP has 495 rows, 1395 columns, and 3105 nonzeros.\n",
      "Reduced MIP has 930 binaries, 0 generals, 0 SOSs, and 870 indicators.\n",
      "Presolve time = 0.03 sec. (4.26 ticks)\n",
      "Probing time = 0.05 sec. (8.78 ticks)\n",
      "Tried aggregator 1 time.\n",
      "Detecting symmetries...\n",
      "Reduced MIP has 495 rows, 1395 columns, and 3105 nonzeros.\n",
      "Reduced MIP has 930 binaries, 0 generals, 0 SOSs, and 870 indicators.\n",
      "Presolve time = 0.02 sec. (2.19 ticks)\n",
      "Probing time = 0.02 sec. (2.45 ticks)\n"
     ]
    },
    {
     "name": "stdout",
     "output_type": "stream",
     "text": [
      "Clique table members: 495.\n",
      "MIP emphasis: balance optimality and feasibility.\n",
      "MIP search method: dynamic search.\n",
      "Parallel mode: deterministic, using up to 8 threads.\n",
      "Root relaxation solution time = 0.01 sec. (1.27 ticks)\n",
      "\n",
      "        Nodes                                         Cuts/\n",
      "   Node  Left     Objective  IInf  Best Integer    Best Bound    ItCnt     Gap\n",
      "\n",
      "*     0+    0                         2405.3398        0.0000           100.00%\n",
      "      0     0      735.8214    30     2405.3398      735.8214       50   69.41%\n",
      "      0     0      758.2636    26     2405.3398      Cuts: 81       93   68.48%\n",
      "      0     0      762.3064    35     2405.3398      Cuts: 34      125   68.31%\n",
      "      0     0      762.6012    37     2405.3398      Cuts: 21      141   68.30%\n",
      "      0     0      762.6012    34     2405.3398   Impl Bds: 5      146   68.30%\n",
      "      0     0      762.6012    33     2405.3398   Impl Bds: 1      147   68.30%\n",
      "Detecting symmetries...\n",
      "*     0+    0                          950.6215      762.6012            19.78%\n",
      "*     0+    0                          938.1817      762.6012            18.71%\n",
      "Detecting symmetries...\n",
      "      0     2      762.6012    33      938.1817      766.6877      147   18.28%\n",
      "Elapsed time = 0.36 sec. (62.38 ticks, tree = 0.02 MB, solutions = 3)\n",
      "*   341+  215                          913.8887      766.6877            16.11%\n",
      "*   343+  224                          912.9379      766.6877            16.02%\n",
      "*   379+  267                          909.4950      766.6877            15.70%\n",
      "*  1056   808      integral     0      908.1403      767.6689     8193   15.47%\n",
      "*  1105   840      integral     0      869.7523      767.6689     8655   11.74%\n",
      "*  1657   985      integral     0      848.8280      769.6294    11735    9.33%\n",
      "*  2168+ 1210                          843.8427      770.6886             8.67%\n",
      "\n",
      "Performing restart 1\n",
      "\n",
      "Repeating presolve.\n",
      "Tried aggregator 1 time.\n",
      "MIP Presolve eliminated 1 rows and 9 columns.\n",
      "Reduced MIP has 494 rows, 1386 columns, and 3086 nonzeros.\n",
      "Reduced MIP has 922 binaries, 0 generals, 0 SOSs, and 862 indicators.\n",
      "Presolve time = 0.02 sec. (1.77 ticks)\n",
      "Tried aggregator 1 time.\n",
      "Reduced MIP has 494 rows, 1386 columns, and 3086 nonzeros.\n",
      "Reduced MIP has 922 binaries, 0 generals, 0 SOSs, and 862 indicators.\n",
      "Presolve time = 0.00 sec. (2.34 ticks)\n",
      "Represolve time = 0.06 sec. (16.44 ticks)\n",
      "   3426     0      766.9589    53      843.8427      Cuts: 22    37082    8.25%\n",
      "   3426     0      767.8105    29      843.8427       Cuts: 8    37096    8.25%\n",
      "   3426     0      768.7226    10      843.8427      Cuts: 24    37129    8.25%\n",
      "   3426     0      768.8936    32      843.8427      Cuts: 27    37146    8.25%\n",
      "   3426     0      769.1967     9      843.8427      Cuts: 11    37163    8.25%\n",
      "   3426     0      769.2053    52      843.8427      Cuts: 15    37182    8.25%\n",
      "   3426     0      769.2053    52      843.8427   Impl Bds: 1    37183    8.25%\n",
      "   3426     0      769.2053    52      843.8427   Impl Bds: 1    37184    8.25%\n",
      "   3426     2      769.2053    52      843.8427      774.1903    37184    8.25%\n",
      "   4729   718      780.4621    36      843.8427      774.1903    46923    8.25%\n",
      "   7482  2767      798.3767    31      843.8427      776.1925    73763    8.02%\n",
      "   9966  4328      785.9059    32      843.8427      777.6266    95706    7.85%\n",
      "  13068  6239      780.8827    27      843.8427      778.7662   121235    7.71%\n",
      "  15568  8175      782.2595    30      843.8427      779.7276   148693    7.60%\n",
      "  18281  9808      799.9697    40      843.8427      780.3340   173025    7.53%\n",
      "  29690 16822      793.5596    42      843.8427      782.3526   276816    7.29%\n",
      "Elapsed time = 7.98 sec. (2977.92 ticks, tree = 14.32 MB, solutions = 12)\n",
      "* 35579 21296      integral     0      838.7004      783.2894   341532    6.61%\n",
      "* 35732+21105                          823.4656      783.3138             4.88%\n",
      "* 37063+21261                          823.4413      783.4867             4.85%\n",
      "  38764 23213      836.9188    14      823.4413      783.4867   374584    4.85%\n",
      "* 40429+21581                          820.9480      783.4867             4.56%\n",
      "  45079 22577      814.7332    12      820.9480      783.4867   437586    4.56%\n",
      "\n",
      "Performing restart 2\n",
      "\n",
      "Repeating presolve.\n",
      "Tried aggregator 1 time.\n",
      "MIP Presolve eliminated 58 rows and 191 columns.\n",
      "Reduced MIP has 436 rows, 1195 columns, and 2646 nonzeros.\n",
      "Reduced MIP has 789 binaries, 0 generals, 0 SOSs, and 729 indicators.\n",
      "Presolve time = 0.00 sec. (1.91 ticks)\n",
      "Tried aggregator 1 time.\n",
      "Reduced MIP has 436 rows, 1195 columns, and 2646 nonzeros.\n",
      "Reduced MIP has 789 binaries, 0 generals, 0 SOSs, and 729 indicators.\n",
      "Presolve time = 0.00 sec. (1.95 ticks)\n",
      "Represolve time = 0.09 sec. (22.43 ticks)\n",
      "  49849     0      769.4922    65      820.9480       Cuts: 5   494648    4.39%\n",
      "  49849     0      770.0280    16      820.9480      Cuts: 14   494681    4.39%\n",
      "  49849     0      770.2411    43      820.9480      Cuts: 26   494712    4.39%\n",
      "  49849     0      770.4711    59      820.9480      Cuts: 29   494743    4.39%\n",
      "  49849     0      770.7079    26      820.9480      Cuts: 18   494768    4.39%\n",
      "  49849     0      770.7173    61      820.9480      Cuts: 25   494797    4.39%\n",
      "  49849     0      770.7457    59      820.9480      Cuts: 31   494813    4.39%\n",
      "  49849     0      770.7459    60      820.9480      Cuts: 17   494818    4.39%\n",
      "  50084   158      799.5110     7      820.9480      784.9189   497557    4.39%\n",
      "  56045  3594      797.7017    22      820.9480      784.9189   557376    4.39%\n",
      "  63869  8416      808.3254    11      820.9480      784.9189   652238    4.39%\n",
      "  71902 13048      803.1657    18      820.9480      784.9189   747841    4.39%\n",
      "  79057 16526      788.6581    17      820.9480      784.9189   824966    4.39%\n",
      "  86279 20880      811.7034    21      820.9480      785.6390   921412    4.30%\n",
      "  93186 24137      804.0321    32      820.9480      786.4108  1004352    4.21%\n",
      " 100116 27399      790.8791    29      820.9480      787.1870  1082369    4.11%\n",
      "Elapsed time = 36.53 sec. (12516.01 ticks, tree = 19.04 MB, solutions = 20)\n",
      " 106794 31092      788.6261    23      820.9480      787.8879  1171523    4.03%\n",
      " 114092 34579      813.2707    12      820.9480      788.4382  1256308    3.96%\n",
      " 120532 37825        cutoff            820.9480      789.0056  1336402    3.89%\n",
      " 127251 41133      797.5693    18      820.9480      789.4311  1424553    3.84%\n",
      " 133587 44422      796.8364    35      820.9480      789.8589  1512065    3.79%\n",
      "*140322 47886      integral     0      818.9251      790.2183  1602868    3.51%\n",
      " 140336 47488      803.3818    24      818.9251      790.2183  1592316    3.51%\n",
      "*143515+49017                          818.0416      790.4439             3.37%\n",
      "*143632+48676                          817.9030      790.4584             3.36%\n",
      "*143917+48884                          815.8935      790.4671             3.12%\n",
      " 145809 48997        cutoff            815.8935      790.5646  1666118    3.10%\n",
      "\n",
      "Clique cuts applied:  16\n",
      "Cover cuts applied:  12\n",
      "Implied bound cuts applied:  333\n",
      "Mixed integer rounding cuts applied:  15\n",
      "Zero-half cuts applied:  6\n",
      "Gomory fractional cuts applied:  14\n",
      "\n",
      "Root node processing (before b&c):\n",
      "  Real time             =    0.36 sec. (62.19 ticks)\n",
      "Parallel b&c, 8 threads:\n",
      "  Real time             =   59.69 sec. (19513.91 ticks)\n",
      "  Sync time (average)   =    6.39 sec.\n",
      "  Wait time (average)   =    0.38 sec.\n",
      "                          ------------\n",
      "Total (root+branch&cut) =   60.05 sec. (19576.10 ticks)\n"
     ]
    }
   ],
   "source": [
    "mdl.minimize(mdl.sum(t[i, j]*x[i, j] for i, j in A))\n",
    "mdl.add_constraints(mdl.sum(x[i, j] for j in V if j != i) == 1 for i in N)\n",
    "mdl.add_constraints(mdl.sum(x[i, j] for i in V if i != j) == 1 for j in N)\n",
    "mdl.add_indicator_constraints(mdl.indicator_constraint(x[i, j], u[i]+q[j] == u[j]) for i, j in A if i != 0 and j != 0)\n",
    "mdl.add_constraints(u[i] >= q[i] for i in N)\n",
    "mdl.parameters.timelimit = timelimit\n",
    "solution = mdl.solve(log_output=True)"
   ]
  },
  {
   "cell_type": "code",
   "execution_count": 215,
   "metadata": {},
   "outputs": [],
   "source": [
    "#print(solution)\n",
    "#solution.solve_status"
   ]
  },
  {
   "cell_type": "code",
   "execution_count": 216,
   "metadata": {},
   "outputs": [],
   "source": [
    "active_arcs = [a for a in A if x[a].solution_value > 0.9]"
   ]
  },
  {
   "cell_type": "code",
   "execution_count": 217,
   "metadata": {},
   "outputs": [
    {
     "name": "stdout",
     "output_type": "stream",
     "text": [
      "Loop starting at (0, 6) : [(0, 6), (6, 5), (5, 17), (17, 16), (16, 14), (14, 15), (15, 22), (22, 23), (23, 25), (25, 4), (4, 21), (21, 2), (2, 13), (13, 0)]\n",
      "Loop starting at (0, 26) : [(0, 26), (26, 12), (12, 24), (24, 29), (29, 3), (3, 9), (9, 20), (20, 30), (30, 10), (10, 11), (11, 19), (19, 7), (7, 8), (8, 18), (18, 0)]\n",
      "Loop starting at (0, 27) : [(0, 27), (27, 1), (1, 28), (28, 0)]\n"
     ]
    },
    {
     "data": {
      "text/plain": [
       "[[(0, 6),\n",
       "  (6, 5),\n",
       "  (5, 17),\n",
       "  (17, 16),\n",
       "  (16, 14),\n",
       "  (14, 15),\n",
       "  (15, 22),\n",
       "  (22, 23),\n",
       "  (23, 25),\n",
       "  (25, 4),\n",
       "  (4, 21),\n",
       "  (21, 2),\n",
       "  (2, 13),\n",
       "  (13, 0)],\n",
       " [(0, 26),\n",
       "  (26, 12),\n",
       "  (12, 24),\n",
       "  (24, 29),\n",
       "  (29, 3),\n",
       "  (3, 9),\n",
       "  (9, 20),\n",
       "  (20, 30),\n",
       "  (30, 10),\n",
       "  (10, 11),\n",
       "  (11, 19),\n",
       "  (19, 7),\n",
       "  (7, 8),\n",
       "  (8, 18),\n",
       "  (18, 0)],\n",
       " [(0, 27), (27, 1), (1, 28), (28, 0)]]"
      ]
     },
     "execution_count": 217,
     "metadata": {},
     "output_type": "execute_result"
    }
   ],
   "source": [
    "def find_loops(list_of_tuples, loops2):\n",
    "    # Initialize a dictionary to store the loops\n",
    "    loops = {}\n",
    "\n",
    "    # Loop through the list of tuples\n",
    "    for item in list_of_tuples:\n",
    "        # Check if the item is a tuple\n",
    "        if isinstance(item, tuple):\n",
    "            # If the tuple starts with zero, create a new loop\n",
    "            if item[0] == 0:\n",
    "                loop = [item]\n",
    "                current_node = item[1]\n",
    "                # Traverse the list to find the rest of the loop\n",
    "                while current_node != 0:\n",
    "                    for i in list_of_tuples:\n",
    "                        if isinstance(i, tuple) and i[0] == current_node:\n",
    "                            loop.append(i)\n",
    "                            current_node = i[1]\n",
    "                            break\n",
    "                # Store the loop in the dictionary\n",
    "                loops[item] = loop\n",
    "\n",
    "    # Print the loops\n",
    "    for key, value in loops.items():\n",
    "        print(\"Loop starting at\", key, \":\", value)\n",
    "    \n",
    "    for key, value in loops.items():\n",
    "        loops2.append(value)\n",
    "\n",
    "    return loops2\n",
    "\n",
    "\n",
    "# Example list of tuples\n",
    "list_of_tuples = active_arcs\n",
    "list_of_loops_2 = []\n",
    "\n",
    "\n",
    "# Find and print the loops\n",
    "find_loops(list_of_tuples, list_of_loops_2)\n"
   ]
  },
  {
   "cell_type": "code",
   "execution_count": 218,
   "metadata": {},
   "outputs": [],
   "source": [
    "color_vector = [\n",
    "    '#b3ccff',  # light blue\n",
    "    '#ffc559',  # light orange\n",
    "    '#93e493',  # light green\n",
    "]\n",
    "\n",
    "color_vector2 = [\n",
    "    '#3075ff',  # blue\n",
    "    '#ffa500',  # orange\n",
    "    '#228B22'   # green\n",
    "]"
   ]
  },
  {
   "cell_type": "code",
   "execution_count": 219,
   "metadata": {},
   "outputs": [
    {
     "data": {
      "image/png": "[encoded data removed]",
      "text/plain": [
       "<Figure size 600x600 with 1 Axes>"
      ]
     },
     "metadata": {},
     "output_type": "display_data"
    }
   ],
   "source": [
    "plt.figure(figsize=[6, 6])\n",
    "\n",
    "plt.axis([0,75,0,75])\n",
    "\n",
    "for k in range(len(list_of_loops_2)):\n",
    "    for i,j in list_of_loops_2[k]:\n",
    "        plt.arrow(xc[i] , yc[i], xc[j]-xc[i], yc[j]-yc[i], head_width=2, head_length=2, color=color_vector[k], length_includes_head=True)\n",
    "        plt.plot(df[\"XCOORD.\"][i], df[\"YCOORD.\"][i], \".\", color=color_vector2[k], markersize=10)\n",
    "\n",
    "plt.plot(df[\"XCOORD.\"][0], df[\"YCOORD.\"][0], \"o\", color=\"red\", markersize=10, label=\"Starting Point\")\n",
    "\n",
    "plt.xlabel(\"X Coordinate\")\n",
    "plt.ylabel(\"Y Coordinate\")\n",
    "#plt.title(f\"Geographical Distribution of {number_of_customers} customers\")\n",
    "\n",
    "\n",
    "plt.grid(True)\n",
    "#plt.legend(bbox_to_anchor=(1.05, 0), loc='lower left', borderaxespad=0.)\n",
    "plt.plot()\n",
    "\n",
    "stochastic = '_stochastic' if c != {(i, j): np.hypot(xc[i]-xc[j], yc[i]-yc[j]) for i, j in A} else ''\n",
    "\n",
    "file_name = f'\\\\vrp_{number_of_customers}c_{timelimit}s_solution' + stochastic\n",
    "\n",
    "file_path = images_path + file_name\n",
    "\n",
    "plt.savefig(rf'{file_path}'+'.svg')"
   ]
  }
 ],
 "metadata": {
  "kernelspec": {
   "display_name": "Python 3",
   "language": "python",
   "name": "python3"
  },
  "language_info": {
   "codemirror_mode": {
    "name": "ipython",
    "version": 3
   },
   "file_extension": ".py",
   "mimetype": "text/x-python",
   "name": "python",
   "nbconvert_exporter": "python",
   "pygments_lexer": "ipython3",
   "version": "3.11.8"
  }
 },
 "nbformat": 4,
 "nbformat_minor": 2
}
